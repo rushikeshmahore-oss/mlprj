{
 "cells": [
  {
   "cell_type": "code",
   "execution_count": 45,
   "id": "edf41326-651b-42d5-898c-2db15e2f3bae",
   "metadata": {},
   "outputs": [],
   "source": [
    "import numpy as np"
   ]
  },
  {
   "cell_type": "code",
   "execution_count": null,
   "id": "72553376",
   "metadata": {},
   "outputs": [],
   "source": []
  },
  {
   "cell_type": "markdown",
   "id": "157555ce",
   "metadata": {},
   "source": []
  },
  {
   "cell_type": "code",
   "execution_count": 46,
   "id": "e97f8445-4bda-4ce7-accb-0cbada5e068f",
   "metadata": {},
   "outputs": [
    {
     "name": "stdout",
     "output_type": "stream",
     "text": [
      "[1, 2, 3, 4] <class 'list'>\n"
     ]
    }
   ],
   "source": [
    "list=[1,2,3,4]\n",
    "print(list,type(list))"
   ]
  },
  {
   "cell_type": "code",
   "execution_count": 47,
   "id": "71c7a364-00a0-4297-9dbb-d61c737b131b",
   "metadata": {},
   "outputs": [
    {
     "name": "stdout",
     "output_type": "stream",
     "text": [
      "[1 2 3 4] <class 'numpy.ndarray'>\n"
     ]
    }
   ],
   "source": [
    "list1=np.array(list)\n",
    "print(list1,type(list1))"
   ]
  },
  {
   "cell_type": "code",
   "execution_count": 48,
   "id": "11de2d22-e9af-4d05-b574-e9be6fd8fff0",
   "metadata": {},
   "outputs": [
    {
     "name": "stdout",
     "output_type": "stream",
     "text": [
      "[1, 2, 3, 4] <class 'list'>\n"
     ]
    }
   ],
   "source": [
    "list=[1,2,3,4]\n",
    "print(list,type(list))"
   ]
  },
  {
   "cell_type": "code",
   "execution_count": 49,
   "id": "7cf5da93-f965-43bc-b83e-3decfec431ec",
   "metadata": {},
   "outputs": [
    {
     "name": "stdout",
     "output_type": "stream",
     "text": [
      "[1 2 3 4] <class 'numpy.ndarray'>\n"
     ]
    }
   ],
   "source": [
    "list1=np.array([1,2,3,4],dtype=int)\n",
    "print(list1,type(list1))"
   ]
  },
  {
   "cell_type": "code",
   "execution_count": 50,
   "id": "915797d3-ad5d-443b-abe2-348587fd9d7c",
   "metadata": {},
   "outputs": [
    {
     "data": {
      "text/plain": [
       "array([1, 2, 3, 4], dtype=int32)"
      ]
     },
     "execution_count": 50,
     "metadata": {},
     "output_type": "execute_result"
    }
   ],
   "source": [
    "list1=np.array([1,2,3,4],dtype='i')\n",
    "list1"
   ]
  },
  {
   "cell_type": "code",
   "execution_count": 51,
   "id": "8a417674-fa38-4afa-b954-f1a34ebe9b4d",
   "metadata": {},
   "outputs": [
    {
     "data": {
      "text/plain": [
       "array([1., 2., 3., 4.])"
      ]
     },
     "execution_count": 51,
     "metadata": {},
     "output_type": "execute_result"
    }
   ],
   "source": [
    "list1=np.array([1,2,3,4],dtype=float)\n",
    "list1"
   ]
  },
  {
   "cell_type": "code",
   "execution_count": 52,
   "id": "8c90197d-c7d5-4a7b-88c3-8d92b2f61f18",
   "metadata": {},
   "outputs": [
    {
     "data": {
      "text/plain": [
       "array(['1', '2', '3', '4'], dtype='<U1')"
      ]
     },
     "execution_count": 52,
     "metadata": {},
     "output_type": "execute_result"
    }
   ],
   "source": [
    "list1=np.array([1,2,3,4],dtype='str')\n",
    "list1"
   ]
  },
  {
   "cell_type": "code",
   "execution_count": 53,
   "id": "7da065af-f752-4d37-8ee3-cdff0fbeda2e",
   "metadata": {},
   "outputs": [
    {
     "data": {
      "text/plain": [
       "array([1.+0.j, 2.+0.j, 3.+0.j, 4.+0.j])"
      ]
     },
     "execution_count": 53,
     "metadata": {},
     "output_type": "execute_result"
    }
   ],
   "source": [
    "list1=np.array([1,2,3,4],dtype=complex)\n",
    "list1"
   ]
  },
  {
   "cell_type": "code",
   "execution_count": 54,
   "id": "e6210f6c-49ec-4afe-b083-ae9209ed5ad0",
   "metadata": {},
   "outputs": [
    {
     "data": {
      "text/plain": [
       "array([ 2,  6, 67, 34])"
      ]
     },
     "execution_count": 54,
     "metadata": {},
     "output_type": "execute_result"
    }
   ],
   "source": [
    "list2=np.array([2.56,6.788,67.899,34.7868],dtype=int)\n",
    "list2"
   ]
  },
  {
   "cell_type": "code",
   "execution_count": 55,
   "id": "460370f1-4120-4d8f-8008-46af014e17fe",
   "metadata": {},
   "outputs": [
    {
     "data": {
      "text/plain": [
       "array([ 2.56  +0.j,  6.788 +0.j, 67.899 +0.j, 34.7868+0.j])"
      ]
     },
     "execution_count": 55,
     "metadata": {},
     "output_type": "execute_result"
    }
   ],
   "source": [
    "list2=np.array([2.56,6.788,67.899,34.7868],dtype=complex)\n",
    "list2"
   ]
  },
  {
   "cell_type": "code",
   "execution_count": 56,
   "id": "7cd39ada-0f8e-4a33-b921-c380bdd139fc",
   "metadata": {},
   "outputs": [
    {
     "data": {
      "text/plain": [
       "array(['2.56', '6.788', '67.899', '34.7868'], dtype='<U7')"
      ]
     },
     "execution_count": 56,
     "metadata": {},
     "output_type": "execute_result"
    }
   ],
   "source": [
    "list2=np.array([2.56,6.788,67.899,34.7868],dtype=str)\n",
    "list2"
   ]
  },
  {
   "cell_type": "code",
   "execution_count": 57,
   "id": "b4bcc046-14be-487a-ba2e-b55ba7cb62ad",
   "metadata": {},
   "outputs": [
    {
     "ename": "TypeError",
     "evalue": "int() argument must be a string, a bytes-like object or a real number, not 'complex'",
     "output_type": "error",
     "traceback": [
      "\u001b[31m---------------------------------------------------------------------------\u001b[39m",
      "\u001b[31mTypeError\u001b[39m                                 Traceback (most recent call last)",
      "\u001b[36mCell\u001b[39m\u001b[36m \u001b[39m\u001b[32mIn[57]\u001b[39m\u001b[32m, line 1\u001b[39m\n\u001b[32m----> \u001b[39m\u001b[32m1\u001b[39m list2=\u001b[43mnp\u001b[49m\u001b[43m.\u001b[49m\u001b[43marray\u001b[49m\u001b[43m(\u001b[49m\u001b[43m[\u001b[49m\u001b[32;43m1\u001b[39;49m\u001b[43m+\u001b[49m\u001b[32;43m2\u001b[39;49m\u001b[43mj\u001b[49m\u001b[43m,\u001b[49m\u001b[32;43m5\u001b[39;49m\u001b[43m+\u001b[49m\u001b[32;43m78\u001b[39;49m\u001b[43mj\u001b[49m\u001b[43m,\u001b[49m\u001b[32;43m7\u001b[39;49m\u001b[43m+\u001b[49m\u001b[32;43m5\u001b[39;49m\u001b[43mj\u001b[49m\u001b[43m]\u001b[49m\u001b[43m,\u001b[49m\u001b[43mdtype\u001b[49m\u001b[43m=\u001b[49m\u001b[38;5;28;43mint\u001b[39;49m\u001b[43m)\u001b[49m\n\u001b[32m      2\u001b[39m list2\n",
      "\u001b[31mTypeError\u001b[39m: int() argument must be a string, a bytes-like object or a real number, not 'complex'"
     ]
    }
   ],
   "source": [
    "list2=np.array([1+2j,5+78j,7+5j],dtype=int)\n",
    "list2"
   ]
  },
  {
   "cell_type": "code",
   "execution_count": null,
   "id": "84e7815a-6dea-43bb-8295-4497e344160d",
   "metadata": {},
   "outputs": [],
   "source": [
    "list2=np.array([1+2j,5+78j,7+5j],dtype=float)\n",
    "list2"
   ]
  },
  {
   "cell_type": "code",
   "execution_count": null,
   "id": "cec08a43-12f5-41e3-87cf-8b32f0af54f6",
   "metadata": {},
   "outputs": [],
   "source": [
    "list1=[1,2,3,4,5,6,7,8,9]\n",
    "sqr=[i**2 for i in list1]\n",
    "sqr\n"
   ]
  },
  {
   "cell_type": "code",
   "execution_count": null,
   "id": "018ffc0a-60cd-4880-bc4e-9fcbe3cabb66",
   "metadata": {},
   "outputs": [],
   "source": [
    "type(list2)"
   ]
  },
  {
   "cell_type": "code",
   "execution_count": null,
   "id": "bda6684b-dd01-447f-93f5-e2f012917bb0",
   "metadata": {},
   "outputs": [],
   "source": [
    "arr0=np.array(50)\n",
    "print(\"no of dimension:\",arr0.ndim)"
   ]
  },
  {
   "cell_type": "code",
   "execution_count": null,
   "id": "4e71b525-6ccc-43c2-9ee1-b39ebf0ea234",
   "metadata": {},
   "outputs": [],
   "source": [
    "arr0=np.array([334,69,78,56])\n",
    "print(\"no of d:\",arr0.ndim)"
   ]
  },
  {
   "cell_type": "code",
   "execution_count": null,
   "id": "840c67a6-49ee-4fec-8716-4c8648aa4707",
   "metadata": {},
   "outputs": [],
   "source": [
    "arr1=np.array([[20,30,44],[3,44,56],[44,43,22]])\n",
    "print(\"no of dimension:\",arr1.ndim)"
   ]
  },
  {
   "cell_type": "code",
   "execution_count": null,
   "id": "495b0a49-0dc6-4afa-a94e-c8e62a40dba4",
   "metadata": {},
   "outputs": [],
   "source": [
    "arr1=np.array([[20,30,44,56,44,43,22]])\n",
    "print(\"no of dimension:\",arr1.ndim)"
   ]
  },
  {
   "cell_type": "code",
   "execution_count": null,
   "id": "4e4f376d-74b1-4370-ae76-ee0795feff17",
   "metadata": {},
   "outputs": [],
   "source": [
    "arr1=np.array([1,2,3,4,5,6,7,8])\n",
    "arr1\n"
   ]
  },
  {
   "cell_type": "code",
   "execution_count": null,
   "id": "92d461cb-3449-4b84-92af-722e69020774",
   "metadata": {},
   "outputs": [],
   "source": [
    "arr1[::-1]"
   ]
  },
  {
   "cell_type": "code",
   "execution_count": null,
   "id": "cee27515-cd3c-4345-9725-07d2eb2aa0b9",
   "metadata": {},
   "outputs": [],
   "source": [
    "arr1[2:8]"
   ]
  },
  {
   "cell_type": "code",
   "execution_count": null,
   "id": "23ebbc11-5fee-435a-8f39-e5a8a9d0a0ac",
   "metadata": {},
   "outputs": [],
   "source": [
    "arr1[2:5]"
   ]
  },
  {
   "cell_type": "code",
   "execution_count": null,
   "id": "6a8adeb6-cd42-4d5d-a614-bf3f9cf42ce4",
   "metadata": {},
   "outputs": [],
   "source": [
    "arr2=np.array([[2,3,4],[8,9,5]])\n",
    "arr2"
   ]
  },
  {
   "cell_type": "code",
   "execution_count": null,
   "id": "3ab6d8b2-176e-44d5-a39a-123089e4f349",
   "metadata": {},
   "outputs": [],
   "source": [
    "arr2.shape"
   ]
  },
  {
   "cell_type": "code",
   "execution_count": null,
   "id": "55754fd5-945f-4ccb-adfa-cbd318c28f82",
   "metadata": {},
   "outputs": [],
   "source": [
    "arr2[0][2]"
   ]
  },
  {
   "cell_type": "code",
   "execution_count": null,
   "id": "0509a57a-7c14-46e6-8ba8-f8d7582b1f5b",
   "metadata": {},
   "outputs": [],
   "source": [
    "arr2[0:1]"
   ]
  },
  {
   "cell_type": "code",
   "execution_count": null,
   "id": "42d73620-b48a-4897-9edc-760b9dffc4be",
   "metadata": {},
   "outputs": [],
   "source": [
    "arr2[:3,1:3]"
   ]
  },
  {
   "cell_type": "code",
   "execution_count": null,
   "id": "e8f881ed-8f74-4df6-9542-48cb6094097b",
   "metadata": {},
   "outputs": [],
   "source": [
    "arr2[0:2,1:2]"
   ]
  },
  {
   "cell_type": "code",
   "execution_count": null,
   "id": "d94f47f7-3412-43df-b882-b7e6b5e82b8f",
   "metadata": {},
   "outputs": [],
   "source": [
    "arr2[:,:2]"
   ]
  },
  {
   "cell_type": "code",
   "execution_count": null,
   "id": "bd78389b-871d-4949-af4d-d32cbe4812c7",
   "metadata": {},
   "outputs": [],
   "source": [
    "arr2[::-1]"
   ]
  },
  {
   "cell_type": "code",
   "execution_count": null,
   "id": "b23eace8-94dc-4a13-a952-008da7194dda",
   "metadata": {},
   "outputs": [],
   "source": [
    "arr2"
   ]
  },
  {
   "cell_type": "code",
   "execution_count": null,
   "id": "b702f4e6-86b2-40c4-9eff-2ead8e1bbf8c",
   "metadata": {},
   "outputs": [],
   "source": [
    "arr2[:3,1:3]"
   ]
  },
  {
   "cell_type": "code",
   "execution_count": null,
   "id": "49cbc5c3-86d5-4fe4-9bc1-f7dd3982718b",
   "metadata": {},
   "outputs": [],
   "source": [
    "arr1=np.array([1,2,3,4,5,6,7,8,9,4,2,3])\n",
    "arr1.shape"
   ]
  },
  {
   "cell_type": "code",
   "execution_count": null,
   "id": "839a09b6-1056-435b-b210-1a85582cfd21",
   "metadata": {},
   "outputs": [],
   "source": [
    "arr1.reshape(2,3,2)"
   ]
  },
  {
   "cell_type": "code",
   "execution_count": null,
   "id": "a0c7824a-311f-427f-adec-248d28f979e4",
   "metadata": {},
   "outputs": [],
   "source": [
    "arr1=np.array([1,2,3,4,6,5])"
   ]
  },
  {
   "cell_type": "code",
   "execution_count": null,
   "id": "ac3f09f4-227c-4034-9153-fbdd1d224a22",
   "metadata": {},
   "outputs": [],
   "source": [
    "arr1.reshape(2,3)"
   ]
  },
  {
   "cell_type": "code",
   "execution_count": null,
   "id": "47783179-ae91-4a0e-b937-413fad8e35e5",
   "metadata": {},
   "outputs": [],
   "source": [
    "arr1"
   ]
  },
  {
   "cell_type": "code",
   "execution_count": null,
   "id": "467f1e83-a790-445d-8c1e-cf3caad7ff9c",
   "metadata": {},
   "outputs": [],
   "source": [
    "for i in np.nditer(arr1):\n",
    "    print(i)"
   ]
  },
  {
   "cell_type": "code",
   "execution_count": null,
   "id": "ea01fccf-5101-4eea-bdf8-34345ee9fde8",
   "metadata": {},
   "outputs": [],
   "source": [
    "for i, v in np.ndenumerate(arr1):\n",
    "    print(i,v)"
   ]
  },
  {
   "cell_type": "code",
   "execution_count": null,
   "id": "8b1b3a1b-aee3-4676-9ea2-03c93b752575",
   "metadata": {},
   "outputs": [],
   "source": [
    "for i,v in np.ndenumerate(arr1):\n",
    "    print(f'valuie at index {i} is {v}')"
   ]
  },
  {
   "cell_type": "code",
   "execution_count": null,
   "id": "0564b323-f976-4a49-82f2-74e2c69dbe57",
   "metadata": {},
   "outputs": [],
   "source": [
    "arr2=np.array(['p','y','t','h','o','n'])\n",
    "arr2"
   ]
  },
  {
   "cell_type": "code",
   "execution_count": null,
   "id": "3244b1fd-fcc2-4512-8a45-9251f61bc5bf",
   "metadata": {},
   "outputs": [],
   "source": [
    "for i,v in np.ndenumerate(arr2):\n",
    "    print(f'value at index{i} is {v}')"
   ]
  },
  {
   "cell_type": "code",
   "execution_count": null,
   "id": "4597bb23-e983-4f5f-b5f2-7c782f28763c",
   "metadata": {},
   "outputs": [],
   "source": [
    "arr1=np.array([[1,2,3],[4,5,6]])\n",
    "arr1.flatten()"
   ]
  },
  {
   "cell_type": "code",
   "execution_count": null,
   "id": "1d35c28c-4616-4139-a737-f14cb223c2c1",
   "metadata": {},
   "outputs": [],
   "source": [
    "arr1"
   ]
  },
  {
   "cell_type": "code",
   "execution_count": null,
   "id": "9eae0c4f-0dec-421d-8f7c-f17e5a9a93a6",
   "metadata": {},
   "outputs": [],
   "source": [
    "arr1=np.array([[1,2,3],[4,5,6]])\n",
    "arr1.ravel()"
   ]
  },
  {
   "cell_type": "code",
   "execution_count": null,
   "id": "50af7a3d-1124-4fac-aba7-d768fccf3efe",
   "metadata": {},
   "outputs": [],
   "source": [
    "arr1"
   ]
  },
  {
   "cell_type": "code",
   "execution_count": null,
   "id": "01ec6c66-eb13-4fd6-b9ba-a9cdbbd5472e",
   "metadata": {},
   "outputs": [],
   "source": [
    "arr1=np.array([[1,2,3],[4,5,6]])\n",
    "arr1"
   ]
  },
  {
   "cell_type": "code",
   "execution_count": null,
   "id": "72ead0ad-e45e-42ef-8539-03c6b4138bb9",
   "metadata": {},
   "outputs": [],
   "source": [
    "arr2=arr1.flatten()\n",
    "arr2"
   ]
  },
  {
   "cell_type": "code",
   "execution_count": null,
   "id": "93c5c31f-cea5-4639-9e38-690894906376",
   "metadata": {},
   "outputs": [],
   "source": [
    "arr1"
   ]
  },
  {
   "cell_type": "code",
   "execution_count": null,
   "id": "acc15fa1-7f40-489e-b821-6a75b294d21e",
   "metadata": {},
   "outputs": [],
   "source": [
    "arr2"
   ]
  },
  {
   "cell_type": "code",
   "execution_count": null,
   "id": "32cc0990-475d-435f-acc0-436a73a30f76",
   "metadata": {},
   "outputs": [],
   "source": [
    "arr1=np.array([[1,2,3],[4,5,6]])\n",
    "arr2=arr1.ravel()\n",
    "arr2"
   ]
  },
  {
   "cell_type": "code",
   "execution_count": null,
   "id": "68c0f5ac-e0c9-4cc6-b7b4-7e7198c43b0e",
   "metadata": {},
   "outputs": [],
   "source": [
    "arr2"
   ]
  },
  {
   "cell_type": "code",
   "execution_count": null,
   "id": "6ef76981-9dd6-4028-afb5-848e7408ea79",
   "metadata": {},
   "outputs": [],
   "source": [
    "list1 = [[1,2,3],[3,4,6]]\n",
    "list2 = list1.copy()"
   ]
  },
  {
   "cell_type": "code",
   "execution_count": null,
   "id": "159587d5-ea9b-4408-a176-c817f3c75bf8",
   "metadata": {},
   "outputs": [],
   "source": [
    "list2"
   ]
  },
  {
   "cell_type": "code",
   "execution_count": null,
   "id": "89e1deca-dfc2-4995-8416-60c1d05d5cc9",
   "metadata": {},
   "outputs": [],
   "source": [
    "arr1=np.array([[1,2,3],[4,5,6]])\n",
    "arr2=arr1.copy()\n",
    "arr2[0][1]=678\n",
    "arr2\n"
   ]
  },
  {
   "cell_type": "code",
   "execution_count": null,
   "id": "3cc511c1-3dc5-4805-8160-1dfcba0c4ec6",
   "metadata": {},
   "outputs": [],
   "source": [
    "arr1"
   ]
  },
  {
   "cell_type": "code",
   "execution_count": null,
   "id": "cd7c537c-09a1-4950-a21c-6849b7d39657",
   "metadata": {},
   "outputs": [],
   "source": [
    "list1 = [[1,2,3],[3,4,6]]\n",
    "list2 = list1.copy()\n",
    "list2[0][1]=7567\n",
    "list2"
   ]
  },
  {
   "cell_type": "code",
   "execution_count": null,
   "id": "327790d8-7f51-4e62-b5b5-800d3b7298af",
   "metadata": {},
   "outputs": [],
   "source": [
    "list1"
   ]
  },
  {
   "cell_type": "code",
   "execution_count": null,
   "id": "c62d98a0-a784-42c5-b44b-0fdcb7ec812c",
   "metadata": {},
   "outputs": [],
   "source": [
    "arr1=np.random.rand(2)\n",
    "arr1"
   ]
  },
  {
   "cell_type": "code",
   "execution_count": null,
   "id": "ed71b4f7-d169-4daf-831e-c63d43d131f8",
   "metadata": {},
   "outputs": [],
   "source": [
    "arr2=np.random.rand(2,3)\n",
    "arr2"
   ]
  },
  {
   "cell_type": "code",
   "execution_count": null,
   "id": "1b5c7475-6f3a-4462-898b-8aac74bdb45a",
   "metadata": {},
   "outputs": [],
   "source": [
    "arr1=np.random.randint(2,10,4)\n",
    "arr1"
   ]
  },
  {
   "cell_type": "code",
   "execution_count": null,
   "id": "ab194d63-5f6b-4241-825a-8fc46b48faab",
   "metadata": {},
   "outputs": [],
   "source": [
    "arr2=np.random.randint(2,40,8)\n",
    "arr2"
   ]
  },
  {
   "cell_type": "code",
   "execution_count": null,
   "id": "c6c8a987-edd6-49b2-9548-2ca70f49811b",
   "metadata": {},
   "outputs": [],
   "source": [
    "arr3=np.random.randint(2,10,size=(3,4))\n",
    "arr3"
   ]
  },
  {
   "cell_type": "code",
   "execution_count": null,
   "id": "6d43bcf0-5e3b-49fd-81b0-f77bf25e522c",
   "metadata": {},
   "outputs": [],
   "source": [
    "arr1=np.random.randn(10)\n",
    "arr1"
   ]
  },
  {
   "cell_type": "code",
   "execution_count": null,
   "id": "9a7ce8eb-d3fb-4b12-b6d9-c7323b3dda78",
   "metadata": {},
   "outputs": [],
   "source": [
    "arr2=np.random.randn(2,3)\n",
    "arr2"
   ]
  },
  {
   "cell_type": "code",
   "execution_count": null,
   "id": "5ef7d12c-d9db-41e8-a882-399101df892e",
   "metadata": {},
   "outputs": [],
   "source": [
    "import seaborn as sns"
   ]
  },
  {
   "cell_type": "code",
   "execution_count": null,
   "id": "43239d70-5bba-42d8-8d34-1fce68fda7e6",
   "metadata": {},
   "outputs": [],
   "source": [
    "sns.kdeplot(arr1)"
   ]
  },
  {
   "cell_type": "code",
   "execution_count": null,
   "id": "1c6853a5-4da1-46b6-b7d2-29ce10e26aee",
   "metadata": {},
   "outputs": [],
   "source": [
    "arr1"
   ]
  },
  {
   "cell_type": "code",
   "execution_count": null,
   "id": "3c368c18-82e4-40fa-9add-1bb21c0e04ae",
   "metadata": {},
   "outputs": [],
   "source": [
    "arr1=np.random.ranf(6)\n",
    "arr1"
   ]
  },
  {
   "cell_type": "code",
   "execution_count": null,
   "id": "ee1b6ad6-8c78-41eb-a7d0-3153b7cabcb2",
   "metadata": {},
   "outputs": [],
   "source": [
    "arr2=np.random.randint(2,10,size=(2,3))\n",
    "arr2"
   ]
  },
  {
   "cell_type": "code",
   "execution_count": null,
   "id": "bddb5fbb-5ead-4247-a229-fcd7ce94af5a",
   "metadata": {},
   "outputs": [],
   "source": [
    "import pandas as pd"
   ]
  },
  {
   "cell_type": "code",
   "execution_count": null,
   "id": "55fb69c9-bb99-487c-8db3-7f05ff5e0419",
   "metadata": {},
   "outputs": [],
   "source": [
    "df=pd.DataFrame(arr1)\n",
    "df"
   ]
  },
  {
   "cell_type": "code",
   "execution_count": null,
   "id": "99ab370f-90f5-44ed-9519-5382336b5f74",
   "metadata": {},
   "outputs": [],
   "source": [
    "dict1  = {\"Zeros\" : np.zeros(10,dtype = int),\n",
    "          \"Ones\" : np.ones(10,dtype = int),\n",
    "          \"arange\" : np.arange(10,20),\n",
    "          \"Linsapce\": np.linspace(10,40,num = 10),\n",
    "          \"Randint\":np.random.randint(50,100,size = 10),\n",
    "          \"full\" : np.full(10,22)}\n",
    "\n",
    "dict1"
   ]
  },
  {
   "cell_type": "code",
   "execution_count": null,
   "id": "a82ea053-5311-4e12-9363-1c2f96a29ca6",
   "metadata": {},
   "outputs": [],
   "source": [
    "dict={\"zeros\" : np.zeros(10,dtype=int),\n",
    "      \"ones\" : np.ones(10,dtype=int),\n",
    "      \"arange\" :np.arange(10,20),\n",
    "      \"linspace\" :np.linspace(10,20,num=10),\n",
    "      \"randint\" : np.random.randint(2,10,size=6),\n",
    "      \"full\" : np.full(10,22)}\n",
    "dict"
   ]
  },
  {
   "cell_type": "code",
   "execution_count": null,
   "id": "6d0e0742-b4ac-43c6-aa47-d70b51ebe6a0",
   "metadata": {},
   "outputs": [],
   "source": [
    "df=pd.DataFrame(dict1)\n",
    "df"
   ]
  },
  {
   "cell_type": "code",
   "execution_count": null,
   "id": "e6575574-4d84-4102-b803-741bc379c22f",
   "metadata": {},
   "outputs": [],
   "source": [
    "arr1=np.random.randint(2,10,size=8)\n",
    "arr1"
   ]
  },
  {
   "cell_type": "code",
   "execution_count": null,
   "id": "6e4f37fb-3cb7-4d83-87ae-bda8e68e75d1",
   "metadata": {},
   "outputs": [],
   "source": [
    "np.append(arr1,22)\n"
   ]
  },
  {
   "cell_type": "code",
   "execution_count": null,
   "id": "eb94e44e-c35c-47a4-9e7b-042cac5fadc1",
   "metadata": {},
   "outputs": [],
   "source": [
    "arr2=np.random.randint(10,20,size=8)\n",
    "arr2"
   ]
  },
  {
   "cell_type": "code",
   "execution_count": null,
   "id": "c8444787-3574-4f94-b669-b5a024106d41",
   "metadata": {},
   "outputs": [],
   "source": [
    "np.append(arr2,44)"
   ]
  },
  {
   "cell_type": "code",
   "execution_count": null,
   "id": "9fb2f502-0f4c-4ee0-b436-980a86809a66",
   "metadata": {},
   "outputs": [],
   "source": [
    "arr1+arr2"
   ]
  },
  {
   "cell_type": "code",
   "execution_count": null,
   "id": "5277d3e4-9b10-4f9a-9fbb-79ecc72c3d22",
   "metadata": {},
   "outputs": [],
   "source": [
    "arr1.tolist()"
   ]
  },
  {
   "cell_type": "code",
   "execution_count": null,
   "id": "a644f38c-2131-4d7e-98c1-e0ba8d4dd3cc",
   "metadata": {},
   "outputs": [],
   "source": [
    "arr1=np.random.randint(1,5,size=(2,2))\n",
    "arr1"
   ]
  },
  {
   "cell_type": "code",
   "execution_count": null,
   "id": "f046cb11-f081-4367-a96b-3e42b0427405",
   "metadata": {},
   "outputs": [],
   "source": [
    "arr2=np.random.randint(10,50,size=(2,2))\n",
    "arr2"
   ]
  },
  {
   "cell_type": "code",
   "execution_count": null,
   "id": "b03ab2c1-5664-4eba-bd23-4e65b94b24fd",
   "metadata": {},
   "outputs": [],
   "source": [
    "new_array=np.concatenate([arr1,arr2])\n",
    "new_array"
   ]
  },
  {
   "cell_type": "code",
   "execution_count": null,
   "id": "ed1c2aa7-65f6-4a13-990f-ebe0d70d71ac",
   "metadata": {},
   "outputs": [],
   "source": [
    "arr1=np.random.randint(2,10,size=6)\n",
    "arr1"
   ]
  },
  {
   "cell_type": "code",
   "execution_count": null,
   "id": "218491bf-e015-4ede-a223-e406e9aa2244",
   "metadata": {},
   "outputs": [],
   "source": [
    "sort=np.sort(arr1)\n",
    "sort"
   ]
  },
  {
   "cell_type": "code",
   "execution_count": null,
   "id": "a5cce50e-d957-4dd5-80a9-628c51e9d1d6",
   "metadata": {},
   "outputs": [],
   "source": [
    "matrix1=np.random.randint(2,10,size=(2,2))\n",
    "matrix2=np.random.randint(10,20,size=(2,2))\n",
    "print(matrix1)\n",
    "print(matrix2)"
   ]
  },
  {
   "cell_type": "code",
   "execution_count": null,
   "id": "d9a7bef2-feee-4e2a-89d8-ce0905ecc22d",
   "metadata": {},
   "outputs": [],
   "source": [
    "new=np.add(matrix1,matrix2)\n",
    "new"
   ]
  },
  {
   "cell_type": "code",
   "execution_count": null,
   "id": "accf7fdb-4fa4-426e-bef0-f68720d250bc",
   "metadata": {},
   "outputs": [],
   "source": [
    "new=np.multiply(matrix1,matrix2)\n",
    "new"
   ]
  },
  {
   "cell_type": "code",
   "execution_count": null,
   "id": "47a81109-4325-4a43-96d7-b7317921b5cc",
   "metadata": {},
   "outputs": [],
   "source": [
    "new=np.dot(matrix1,matrix2)\n",
    "new"
   ]
  },
  {
   "cell_type": "code",
   "execution_count": null,
   "id": "5119cb3c-7849-4136-9359-64810264b69e",
   "metadata": {},
   "outputs": [],
   "source": [
    "arr1=np.random.randint(2,10,size=4)\n",
    "arr1"
   ]
  },
  {
   "cell_type": "code",
   "execution_count": null,
   "id": "19315c67-f63f-412d-b34c-4ad7dc8b5fc2",
   "metadata": {},
   "outputs": [],
   "source": [
    "np.where(arr1>3)"
   ]
  },
  {
   "cell_type": "code",
   "execution_count": null,
   "id": "79e5b601-7ee2-4870-a8bb-df21caf585de",
   "metadata": {},
   "outputs": [],
   "source": [
    "np.cumsum(arr1)"
   ]
  },
  {
   "cell_type": "code",
   "execution_count": null,
   "id": "aeb3ba5a-ffd0-4ebb-85f6-19058ec1ea8c",
   "metadata": {},
   "outputs": [],
   "source": [
    "np.delete(arr1,1)"
   ]
  },
  {
   "cell_type": "code",
   "execution_count": null,
   "id": "b43e0365-48a8-431c-8709-eec3e481ff3a",
   "metadata": {},
   "outputs": [],
   "source": [
    "arr1"
   ]
  },
  {
   "cell_type": "code",
   "execution_count": null,
   "id": "898f9565-bd1a-46fe-8c39-29b38073ac21",
   "metadata": {},
   "outputs": [],
   "source": [
    "np.percentile(arr1,0.25)"
   ]
  },
  {
   "cell_type": "code",
   "execution_count": null,
   "id": "a746b796-ef88-4005-a878-244e07c41a11",
   "metadata": {},
   "outputs": [],
   "source": [
    "np.percentile(arr1,0.50)"
   ]
  },
  {
   "cell_type": "code",
   "execution_count": null,
   "id": "b7821109-5ad9-4b6b-aab4-0f39a2bbc435",
   "metadata": {},
   "outputs": [],
   "source": [
    "np.percentile(arr1,0.75)"
   ]
  },
  {
   "cell_type": "code",
   "execution_count": null,
   "id": "3e2291f7-60b5-4a93-b590-1bf317cb5ea1",
   "metadata": {},
   "outputs": [],
   "source": [
    "np.percentile(arr1,100)"
   ]
  },
  {
   "cell_type": "code",
   "execution_count": null,
   "id": "190f7333-7d48-455c-94b0-e733f14f3270",
   "metadata": {},
   "outputs": [],
   "source": [
    "arr1"
   ]
  },
  {
   "cell_type": "code",
   "execution_count": null,
   "id": "90a13767-fea0-4793-bd6f-307fd30990b5",
   "metadata": {},
   "outputs": [],
   "source": [
    "np.argmax(arr1)"
   ]
  },
  {
   "cell_type": "code",
   "execution_count": null,
   "id": "032e8e76-be44-424c-b669-18ec91d352aa",
   "metadata": {},
   "outputs": [],
   "source": [
    "np.count_nonzero(arr1)"
   ]
  },
  {
   "cell_type": "code",
   "execution_count": null,
   "id": "37d071e6-b865-4596-a452-07414b66cdf3",
   "metadata": {},
   "outputs": [],
   "source": [
    "np.repeat(10,7)"
   ]
  },
  {
   "cell_type": "code",
   "execution_count": null,
   "id": "ec1510dc-fdaa-4a1a-86f4-c6c4552e0912",
   "metadata": {},
   "outputs": [],
   "source": [
    "arr1 = np.array([1,2,3,4,5])\n",
    "arr1"
   ]
  },
  {
   "cell_type": "code",
   "execution_count": null,
   "id": "6789c1af-4dc4-4b57-b1ff-6cffc349e807",
   "metadata": {},
   "outputs": [],
   "source": [
    "np.mean(arr1)"
   ]
  },
  {
   "cell_type": "code",
   "execution_count": null,
   "id": "845b8f77-702d-471f-aa01-916806a56611",
   "metadata": {},
   "outputs": [],
   "source": [
    "np.median(arr1)"
   ]
  },
  {
   "cell_type": "code",
   "execution_count": null,
   "id": "3577ea60-0413-40ce-80f7-f75c11cb38c9",
   "metadata": {},
   "outputs": [],
   "source": [
    "from scipy.stats import mode"
   ]
  },
  {
   "cell_type": "code",
   "execution_count": null,
   "id": "e7456d76-e004-42ac-bdf1-6920fcd6b8b0",
   "metadata": {},
   "outputs": [],
   "source": [
    "arr1"
   ]
  },
  {
   "cell_type": "code",
   "execution_count": null,
   "id": "9f5ccd68-a12b-49a4-814b-0af74972ca27",
   "metadata": {},
   "outputs": [],
   "source": [
    "Mode=mode(arr1)\n",
    "Mode[0]"
   ]
  },
  {
   "cell_type": "code",
   "execution_count": null,
   "id": "06f513de-a406-4962-ab8b-0ceb9d2efbe1",
   "metadata": {},
   "outputs": [],
   "source": [
    "arr2 = np.random.randint(10,20,size = 20)\n",
    "arr2"
   ]
  },
  {
   "cell_type": "code",
   "execution_count": null,
   "id": "e68c0cf5-605b-4bc5-8556-4bcc57217b76",
   "metadata": {},
   "outputs": [],
   "source": [
    "std=np.std(arr2)\n",
    "std"
   ]
  },
  {
   "cell_type": "code",
   "execution_count": null,
   "id": "e4c7bbe3-4628-408b-98a6-6be1699287b8",
   "metadata": {},
   "outputs": [],
   "source": [
    "np.var(arr2)"
   ]
  },
  {
   "cell_type": "code",
   "execution_count": null,
   "id": "dfebab7c-eb31-47e8-ac29-92a79a9bf93d",
   "metadata": {},
   "outputs": [],
   "source": [
    "arr1"
   ]
  },
  {
   "cell_type": "code",
   "execution_count": null,
   "id": "5069a188-78ba-4d1a-92ec-1c2fd7d5b057",
   "metadata": {},
   "outputs": [],
   "source": [
    "arr2"
   ]
  },
  {
   "cell_type": "code",
   "execution_count": null,
   "id": "06ffd0b8-8273-4a3f-b8b5-815201c551bf",
   "metadata": {},
   "outputs": [],
   "source": [
    "arr1=np.random.randint(2,10,size=(2,3))\n",
    "arr1"
   ]
  },
  {
   "cell_type": "code",
   "execution_count": null,
   "id": "6c25a7db-04fd-4c61-9857-3624b29c8cd1",
   "metadata": {},
   "outputs": [],
   "source": [
    "arr2=np.random.randint(10,20,size=(2,3))\n",
    "arr2"
   ]
  },
  {
   "cell_type": "code",
   "execution_count": null,
   "id": "e7cf8c5a-01ce-4296-9cda-22de94311eab",
   "metadata": {},
   "outputs": [],
   "source": [
    "np.linalg.solve[arr1,arr2]"
   ]
  },
  {
   "cell_type": "code",
   "execution_count": null,
   "id": "d5300474-1eb9-4519-8703-e2004a218d1a",
   "metadata": {},
   "outputs": [],
   "source": [
    "arr1=np.array([[4,5,6,7,8,9]])\n",
    "arr1"
   ]
  },
  {
   "cell_type": "code",
   "execution_count": null,
   "id": "06918702-8bf8-49e0-b523-57a9ec6791cb",
   "metadata": {},
   "outputs": [],
   "source": [
    "arr2=np.array([[10,20,50,70,90,60]])\n",
    "arr2"
   ]
  },
  {
   "cell_type": "code",
   "execution_count": null,
   "id": "6791498c-4abb-4fc5-9101-0de11db4e6de",
   "metadata": {},
   "outputs": [],
   "source": [
    "arr1 = np.array([[2,3],[3,9]])\n",
    "arr2 = np.array([10,20])"
   ]
  },
  {
   "cell_type": "code",
   "execution_count": null,
   "id": "9614a8fd-f514-499b-ae1c-61bedbb056e1",
   "metadata": {},
   "outputs": [],
   "source": [
    "arr1"
   ]
  },
  {
   "cell_type": "code",
   "execution_count": null,
   "id": "9667af60-ae82-4a18-a3b7-cd3c15dd0a60",
   "metadata": {},
   "outputs": [],
   "source": [
    "arr2"
   ]
  },
  {
   "cell_type": "code",
   "execution_count": null,
   "id": "68c8210a-e178-4ade-8127-96ef7bfb64e8",
   "metadata": {},
   "outputs": [],
   "source": [
    "np.linalg.solve(arr1,arr2)"
   ]
  },
  {
   "cell_type": "code",
   "execution_count": null,
   "id": "980cf847-a86d-4e12-8e7d-84495d6ad242",
   "metadata": {},
   "outputs": [],
   "source": [
    "arr1 = np.array([[2,3,5],[3,9,4],[5,3,7]])\n",
    "arr2 = np.array([10,20,30])"
   ]
  },
  {
   "cell_type": "code",
   "execution_count": null,
   "id": "6a7a8fbc-2462-4892-853d-3ae1aaca8581",
   "metadata": {},
   "outputs": [],
   "source": [
    "np.linalg.solve(arr1,arr2)"
   ]
  },
  {
   "cell_type": "code",
   "execution_count": null,
   "id": "5cddbf41-835b-4c94-977c-27289e88dad9",
   "metadata": {},
   "outputs": [],
   "source": [
    "eq = np.polynomial.Polynomial([6,-5,1])\n",
    "print(eq)"
   ]
  },
  {
   "cell_type": "code",
   "execution_count": null,
   "id": "30397040-37d2-4b4c-8275-8773038b6fcf",
   "metadata": {},
   "outputs": [],
   "source": [
    "eq.roots()"
   ]
  },
  {
   "cell_type": "code",
   "execution_count": null,
   "id": "ab04c5a3-48a9-420e-9e4e-ffef6b4cbf47",
   "metadata": {},
   "outputs": [],
   "source": [
    "arr1=np.random.randint(2,10,size=(2,2))\n",
    "arr1"
   ]
  },
  {
   "cell_type": "code",
   "execution_count": null,
   "id": "ab4eef08-dd06-4470-8199-67f3076c33ce",
   "metadata": {},
   "outputs": [],
   "source": [
    "eigan_values=np.linalg.eig(arr1)\n",
    "eigan_values"
   ]
  },
  {
   "cell_type": "code",
   "execution_count": null,
   "id": "ae08f0c7-8b1a-45c9-b72e-5ac5d3f96de1",
   "metadata": {},
   "outputs": [],
   "source": [
    "eigan_vector=np.linalg.eigvals(arr1)\n",
    "eigan_vector"
   ]
  },
  {
   "cell_type": "code",
   "execution_count": null,
   "id": "57517e70-1e70-47b2-9603-8a255c5ab3fd",
   "metadata": {},
   "outputs": [],
   "source": [
    "arr1=np.array([2,3,4,5,6,8,7,9])\n",
    "arr1"
   ]
  },
  {
   "cell_type": "code",
   "execution_count": null,
   "id": "b11f7559-1c99-4e70-b178-638b4de204f3",
   "metadata": {},
   "outputs": [],
   "source": [
    "s1=pd.Series(arr1)\n",
    "s1"
   ]
  },
  {
   "cell_type": "code",
   "execution_count": null,
   "id": "ac999410-0620-4924-8767-b7cbb2bb3d40",
   "metadata": {},
   "outputs": [],
   "source": [
    "df=pd.DataFrame(arr1)\n",
    "df"
   ]
  },
  {
   "cell_type": "code",
   "execution_count": null,
   "id": "80b3e4c5-7c3b-4f0e-be6c-6e67579e31c6",
   "metadata": {},
   "outputs": [],
   "source": [
    "import pandas as pd\n",
    "import numpy as np"
   ]
  },
  {
   "cell_type": "code",
   "execution_count": null,
   "id": "76d142d1-772d-4e95-83d3-6ddda3279b4f",
   "metadata": {},
   "outputs": [
    {
     "data": {
      "text/plain": [
       "array([9, 9, 5, 7, 9, 3], dtype=int32)"
      ]
     },
     "execution_count": 28,
     "metadata": {},
     "output_type": "execute_result"
    }
   ],
   "source": [
    "arr1=np.random.randint(2,10,size=6)\n",
    "arr1"
   ]
  },
  {
   "cell_type": "markdown",
   "id": "8f08d862",
   "metadata": {},
   "source": [
    "import pandas as pd"
   ]
  },
  {
   "cell_type": "code",
   "execution_count": null,
   "id": "8ed5c6f2-223c-461c-8a2a-cdadf12b9b7c",
   "metadata": {},
   "outputs": [
    {
     "data": {
      "text/plain": [
       "0    9\n",
       "1    9\n",
       "2    5\n",
       "3    7\n",
       "4    9\n",
       "5    3\n",
       "dtype: int32"
      ]
     },
     "execution_count": 29,
     "metadata": {},
     "output_type": "execute_result"
    }
   ],
   "source": [
    "s1=pd.Series(arr1)\n",
    "s1"
   ]
  },
  {
   "cell_type": "code",
   "execution_count": null,
   "id": "402299e7-d47c-43d9-80a7-c22518ad5bbf",
   "metadata": {},
   "outputs": [],
   "source": [
    "df=pd.DataFrame(arr1)\n",
    "df"
   ]
  },
  {
   "cell_type": "code",
   "execution_count": null,
   "id": "a8cf220f-5bc3-4f4e-9f4c-a5b22c684b60",
   "metadata": {},
   "outputs": [],
   "source": [
    "arr1 = np.random.randint(10,30,size=(6,4))\n",
    "arr1"
   ]
  },
  {
   "cell_type": "code",
   "execution_count": null,
   "id": "0f283f85-3498-47e3-ac08-0ccf6e76c867",
   "metadata": {},
   "outputs": [],
   "source": [
    "df=pd.DataFrame(arr1)\n",
    "df"
   ]
  },
  {
   "cell_type": "code",
   "execution_count": null,
   "id": "d8817f55-bb59-420e-ac96-2c2e97ef4d4c",
   "metadata": {},
   "outputs": [],
   "source": [
    "df=pd.DataFrame(arr1,columns=['A','B','C','D'])\n",
    "df"
   ]
  },
  {
   "cell_type": "code",
   "execution_count": null,
   "id": "a915b3fc-e39b-41c4-b638-3ccb7e087389",
   "metadata": {},
   "outputs": [],
   "source": [
    "df=pd.DataFrame(arr1,columns=list(\"HUPI\"))\n",
    "df"
   ]
  },
  {
   "cell_type": "code",
   "execution_count": null,
   "id": "e6e7a96b-d163-45f0-8a3e-841ab3c3a800",
   "metadata": {},
   "outputs": [],
   "source": [
    "list=[6,2,3,4]"
   ]
  },
  {
   "cell_type": "code",
   "execution_count": null,
   "id": "b7f729d9-6ee1-4088-a2ed-f66f0903a259",
   "metadata": {},
   "outputs": [],
   "source": [
    "list"
   ]
  },
  {
   "cell_type": "code",
   "execution_count": null,
   "id": "d63dc5c4-ed32-437d-831e-b3ef1e75629c",
   "metadata": {},
   "outputs": [],
   "source": [
    "df=pd.DataFrame(list)\n",
    "df"
   ]
  },
  {
   "cell_type": "code",
   "execution_count": null,
   "id": "ba370f35-9bf5-46ef-97dc-d800456fc5cd",
   "metadata": {},
   "outputs": [],
   "source": [
    "tuple=(4,5,6,7)\n",
    "df=pd.DataFrame(tuple)\n",
    "df"
   ]
  },
  {
   "cell_type": "code",
   "execution_count": null,
   "id": "2b477e72-0e8a-4df3-ab88-4b17fb6e8957",
   "metadata": {},
   "outputs": [],
   "source": [
    "dict1={\"A\" : np.random.randint(2,10,size=6),\n",
    "       \"B\" : np.ones(6),\n",
    "       \"c\" : np.random.rand(6)\n",
    "      }\n",
    "dict1\n",
    "df=pd.DataFrame(dict1)\n",
    "df"
   ]
  },
  {
   "cell_type": "code",
   "execution_count": null,
   "id": "658690cb-653e-403c-87fd-44f9502aca6f",
   "metadata": {},
   "outputs": [],
   "source": [
    "df[\"E\"]=[23,45,66,77,77,66]\n",
    "df"
   ]
  },
  {
   "cell_type": "code",
   "execution_count": null,
   "id": "189034ac-96c3-435e-a80a-a9f0e8927a33",
   "metadata": {},
   "outputs": [],
   "source": [
    "file_path=r\"C:\\19-10-2024 Data Science\\numpy and pandas\\2024_12_23_Pandas\\loan_data.csv\"\n",
    "df=pd.read_csv(file_path)\n",
    "df"
   ]
  },
  {
   "cell_type": "code",
   "execution_count": null,
   "id": "c33cc30a-aa2e-4747-889c-29f9a925e764",
   "metadata": {},
   "outputs": [],
   "source": [
    "pip install xlrd"
   ]
  },
  {
   "cell_type": "code",
   "execution_count": null,
   "id": "b491f03c-5429-41e2-b94c-407dbaf816d2",
   "metadata": {},
   "outputs": [],
   "source": [
    "file_path=r\"C:\\19-10-2024 Data Science\\numpy and pandas\\2024_12_23_Pandas\\Emp_Records.xls\"\n",
    "df=pd.read_excel(file_path)\n",
    "df"
   ]
  },
  {
   "cell_type": "code",
   "execution_count": null,
   "id": "955f4a39-5598-48b7-a002-2a4654d9f5dd",
   "metadata": {},
   "outputs": [],
   "source": [
    "df=pd.DataFrame()\n",
    "df"
   ]
  },
  {
   "cell_type": "code",
   "execution_count": 58,
   "id": "df975036-67f1-4168-981d-b281aa1154f5",
   "metadata": {},
   "outputs": [
    {
     "data": {
      "text/html": [
       "<div>\n",
       "<style scoped>\n",
       "    .dataframe tbody tr th:only-of-type {\n",
       "        vertical-align: middle;\n",
       "    }\n",
       "\n",
       "    .dataframe tbody tr th {\n",
       "        vertical-align: top;\n",
       "    }\n",
       "\n",
       "    .dataframe thead th {\n",
       "        text-align: right;\n",
       "    }\n",
       "</style>\n",
       "<table border=\"1\" class=\"dataframe\">\n",
       "  <thead>\n",
       "    <tr style=\"text-align: right;\">\n",
       "      <th></th>\n",
       "      <th>credit.policy</th>\n",
       "      <th>purpose</th>\n",
       "      <th>int.rate</th>\n",
       "      <th>installment</th>\n",
       "      <th>log.annual.inc</th>\n",
       "      <th>dti</th>\n",
       "      <th>fico</th>\n",
       "      <th>days.with.cr.line</th>\n",
       "      <th>revol.bal</th>\n",
       "      <th>revol.util</th>\n",
       "      <th>inq.last.6mths</th>\n",
       "      <th>delinq.2yrs</th>\n",
       "      <th>pub.rec</th>\n",
       "      <th>not.fully.paid</th>\n",
       "    </tr>\n",
       "  </thead>\n",
       "  <tbody>\n",
       "    <tr>\n",
       "      <th>0</th>\n",
       "      <td>1</td>\n",
       "      <td>debt_consolidation</td>\n",
       "      <td>0.1189</td>\n",
       "      <td>829.10</td>\n",
       "      <td>11.350407</td>\n",
       "      <td>19.48</td>\n",
       "      <td>737</td>\n",
       "      <td>5639.958333</td>\n",
       "      <td>28854</td>\n",
       "      <td>52.1</td>\n",
       "      <td>0</td>\n",
       "      <td>0</td>\n",
       "      <td>0</td>\n",
       "      <td>0</td>\n",
       "    </tr>\n",
       "    <tr>\n",
       "      <th>1</th>\n",
       "      <td>1</td>\n",
       "      <td>credit_card</td>\n",
       "      <td>0.1071</td>\n",
       "      <td>228.22</td>\n",
       "      <td>11.082143</td>\n",
       "      <td>14.29</td>\n",
       "      <td>707</td>\n",
       "      <td>2760.000000</td>\n",
       "      <td>33623</td>\n",
       "      <td>76.7</td>\n",
       "      <td>0</td>\n",
       "      <td>0</td>\n",
       "      <td>0</td>\n",
       "      <td>0</td>\n",
       "    </tr>\n",
       "    <tr>\n",
       "      <th>2</th>\n",
       "      <td>1</td>\n",
       "      <td>debt_consolidation</td>\n",
       "      <td>0.1357</td>\n",
       "      <td>366.86</td>\n",
       "      <td>10.373491</td>\n",
       "      <td>11.63</td>\n",
       "      <td>682</td>\n",
       "      <td>4710.000000</td>\n",
       "      <td>3511</td>\n",
       "      <td>25.6</td>\n",
       "      <td>1</td>\n",
       "      <td>0</td>\n",
       "      <td>0</td>\n",
       "      <td>0</td>\n",
       "    </tr>\n",
       "    <tr>\n",
       "      <th>3</th>\n",
       "      <td>1</td>\n",
       "      <td>debt_consolidation</td>\n",
       "      <td>0.1008</td>\n",
       "      <td>162.34</td>\n",
       "      <td>11.350407</td>\n",
       "      <td>8.10</td>\n",
       "      <td>712</td>\n",
       "      <td>2699.958333</td>\n",
       "      <td>33667</td>\n",
       "      <td>73.2</td>\n",
       "      <td>1</td>\n",
       "      <td>0</td>\n",
       "      <td>0</td>\n",
       "      <td>0</td>\n",
       "    </tr>\n",
       "    <tr>\n",
       "      <th>4</th>\n",
       "      <td>1</td>\n",
       "      <td>credit_card</td>\n",
       "      <td>0.1426</td>\n",
       "      <td>102.92</td>\n",
       "      <td>11.299732</td>\n",
       "      <td>14.97</td>\n",
       "      <td>667</td>\n",
       "      <td>4066.000000</td>\n",
       "      <td>4740</td>\n",
       "      <td>39.5</td>\n",
       "      <td>0</td>\n",
       "      <td>1</td>\n",
       "      <td>0</td>\n",
       "      <td>0</td>\n",
       "    </tr>\n",
       "    <tr>\n",
       "      <th>...</th>\n",
       "      <td>...</td>\n",
       "      <td>...</td>\n",
       "      <td>...</td>\n",
       "      <td>...</td>\n",
       "      <td>...</td>\n",
       "      <td>...</td>\n",
       "      <td>...</td>\n",
       "      <td>...</td>\n",
       "      <td>...</td>\n",
       "      <td>...</td>\n",
       "      <td>...</td>\n",
       "      <td>...</td>\n",
       "      <td>...</td>\n",
       "      <td>...</td>\n",
       "    </tr>\n",
       "    <tr>\n",
       "      <th>9573</th>\n",
       "      <td>0</td>\n",
       "      <td>all_other</td>\n",
       "      <td>0.1461</td>\n",
       "      <td>344.76</td>\n",
       "      <td>12.180755</td>\n",
       "      <td>10.39</td>\n",
       "      <td>672</td>\n",
       "      <td>10474.000000</td>\n",
       "      <td>215372</td>\n",
       "      <td>82.1</td>\n",
       "      <td>2</td>\n",
       "      <td>0</td>\n",
       "      <td>0</td>\n",
       "      <td>1</td>\n",
       "    </tr>\n",
       "    <tr>\n",
       "      <th>9574</th>\n",
       "      <td>0</td>\n",
       "      <td>all_other</td>\n",
       "      <td>0.1253</td>\n",
       "      <td>257.70</td>\n",
       "      <td>11.141862</td>\n",
       "      <td>0.21</td>\n",
       "      <td>722</td>\n",
       "      <td>4380.000000</td>\n",
       "      <td>184</td>\n",
       "      <td>1.1</td>\n",
       "      <td>5</td>\n",
       "      <td>0</td>\n",
       "      <td>0</td>\n",
       "      <td>1</td>\n",
       "    </tr>\n",
       "    <tr>\n",
       "      <th>9575</th>\n",
       "      <td>0</td>\n",
       "      <td>debt_consolidation</td>\n",
       "      <td>0.1071</td>\n",
       "      <td>97.81</td>\n",
       "      <td>10.596635</td>\n",
       "      <td>13.09</td>\n",
       "      <td>687</td>\n",
       "      <td>3450.041667</td>\n",
       "      <td>10036</td>\n",
       "      <td>82.9</td>\n",
       "      <td>8</td>\n",
       "      <td>0</td>\n",
       "      <td>0</td>\n",
       "      <td>1</td>\n",
       "    </tr>\n",
       "    <tr>\n",
       "      <th>9576</th>\n",
       "      <td>0</td>\n",
       "      <td>home_improvement</td>\n",
       "      <td>0.1600</td>\n",
       "      <td>351.58</td>\n",
       "      <td>10.819778</td>\n",
       "      <td>19.18</td>\n",
       "      <td>692</td>\n",
       "      <td>1800.000000</td>\n",
       "      <td>0</td>\n",
       "      <td>3.2</td>\n",
       "      <td>5</td>\n",
       "      <td>0</td>\n",
       "      <td>0</td>\n",
       "      <td>1</td>\n",
       "    </tr>\n",
       "    <tr>\n",
       "      <th>9577</th>\n",
       "      <td>0</td>\n",
       "      <td>debt_consolidation</td>\n",
       "      <td>0.1392</td>\n",
       "      <td>853.43</td>\n",
       "      <td>11.264464</td>\n",
       "      <td>16.28</td>\n",
       "      <td>732</td>\n",
       "      <td>4740.000000</td>\n",
       "      <td>37879</td>\n",
       "      <td>57.0</td>\n",
       "      <td>6</td>\n",
       "      <td>0</td>\n",
       "      <td>0</td>\n",
       "      <td>1</td>\n",
       "    </tr>\n",
       "  </tbody>\n",
       "</table>\n",
       "<p>9578 rows × 14 columns</p>\n",
       "</div>"
      ],
      "text/plain": [
       "      credit.policy             purpose  int.rate  installment  \\\n",
       "0                 1  debt_consolidation    0.1189       829.10   \n",
       "1                 1         credit_card    0.1071       228.22   \n",
       "2                 1  debt_consolidation    0.1357       366.86   \n",
       "3                 1  debt_consolidation    0.1008       162.34   \n",
       "4                 1         credit_card    0.1426       102.92   \n",
       "...             ...                 ...       ...          ...   \n",
       "9573              0           all_other    0.1461       344.76   \n",
       "9574              0           all_other    0.1253       257.70   \n",
       "9575              0  debt_consolidation    0.1071        97.81   \n",
       "9576              0    home_improvement    0.1600       351.58   \n",
       "9577              0  debt_consolidation    0.1392       853.43   \n",
       "\n",
       "      log.annual.inc    dti  fico  days.with.cr.line  revol.bal  revol.util  \\\n",
       "0          11.350407  19.48   737        5639.958333      28854        52.1   \n",
       "1          11.082143  14.29   707        2760.000000      33623        76.7   \n",
       "2          10.373491  11.63   682        4710.000000       3511        25.6   \n",
       "3          11.350407   8.10   712        2699.958333      33667        73.2   \n",
       "4          11.299732  14.97   667        4066.000000       4740        39.5   \n",
       "...              ...    ...   ...                ...        ...         ...   \n",
       "9573       12.180755  10.39   672       10474.000000     215372        82.1   \n",
       "9574       11.141862   0.21   722        4380.000000        184         1.1   \n",
       "9575       10.596635  13.09   687        3450.041667      10036        82.9   \n",
       "9576       10.819778  19.18   692        1800.000000          0         3.2   \n",
       "9577       11.264464  16.28   732        4740.000000      37879        57.0   \n",
       "\n",
       "      inq.last.6mths  delinq.2yrs  pub.rec  not.fully.paid  \n",
       "0                  0            0        0               0  \n",
       "1                  0            0        0               0  \n",
       "2                  1            0        0               0  \n",
       "3                  1            0        0               0  \n",
       "4                  0            1        0               0  \n",
       "...              ...          ...      ...             ...  \n",
       "9573               2            0        0               1  \n",
       "9574               5            0        0               1  \n",
       "9575               8            0        0               1  \n",
       "9576               5            0        0               1  \n",
       "9577               6            0        0               1  \n",
       "\n",
       "[9578 rows x 14 columns]"
      ]
     },
     "execution_count": 58,
     "metadata": {},
     "output_type": "execute_result"
    }
   ],
   "source": [
    "file_path=r\"C:\\19-10-2024 Data Science\\numpy and pandas\\2024_12_23_Pandas\\loan_data.csv\"\n",
    "df=pd.read_csv(file_path)\n",
    "df"
   ]
  },
  {
   "cell_type": "code",
   "execution_count": null,
   "id": "7d4a73d9-b022-4457-999a-62951536722d",
   "metadata": {},
   "outputs": [],
   "source": [
    "df.columns"
   ]
  },
  {
   "cell_type": "code",
   "execution_count": null,
   "id": "63171bb0-8cea-49ef-8e3d-3e8dc7c67ca3",
   "metadata": {},
   "outputs": [],
   "source": [
    "df.index"
   ]
  },
  {
   "cell_type": "code",
   "execution_count": null,
   "id": "295e155b-1b37-4afd-acb0-05da4117e238",
   "metadata": {},
   "outputs": [],
   "source": [
    "df.shape"
   ]
  },
  {
   "cell_type": "code",
   "execution_count": null,
   "id": "8a06e175-b838-42e1-b0bf-e1892a5e8d3c",
   "metadata": {},
   "outputs": [],
   "source": [
    "df.axes"
   ]
  },
  {
   "cell_type": "code",
   "execution_count": null,
   "id": "c6ad38cc-f34b-4d09-9a4e-c847ec0d27c9",
   "metadata": {},
   "outputs": [],
   "source": [
    "df.dtypes"
   ]
  },
  {
   "cell_type": "code",
   "execution_count": null,
   "id": "1fdf47be-aa15-4134-8c03-ecf573e20358",
   "metadata": {},
   "outputs": [],
   "source": [
    "df.select_dtypes(exclude=object)"
   ]
  },
  {
   "cell_type": "code",
   "execution_count": null,
   "id": "33cf66a7-6f1b-47dc-b488-8c2b52d69ea1",
   "metadata": {},
   "outputs": [],
   "source": [
    "df.select_dtypes(include=[float,int])"
   ]
  },
  {
   "cell_type": "code",
   "execution_count": null,
   "id": "056c02ac-08ae-4375-b692-bd7af2b5546e",
   "metadata": {},
   "outputs": [],
   "source": [
    "df.select_dtypes(exclude=[float,int])"
   ]
  },
  {
   "cell_type": "code",
   "execution_count": null,
   "id": "4d4c58ce-22e9-4972-93dc-91f647da5510",
   "metadata": {},
   "outputs": [],
   "source": [
    "df.describe()"
   ]
  },
  {
   "cell_type": "code",
   "execution_count": null,
   "id": "a2f89679-300e-4b85-beb3-16d21e7fd9aa",
   "metadata": {},
   "outputs": [],
   "source": [
    "df.info()"
   ]
  },
  {
   "cell_type": "code",
   "execution_count": 43,
   "id": "4c448677-d844-4d74-a2e8-1638f86a5dad",
   "metadata": {},
   "outputs": [
    {
     "data": {
      "text/plain": [
       "array([[5, 4, 2],\n",
       "       [5, 5, 3],\n",
       "       [3, 3, 2],\n",
       "       [5, 2, 2],\n",
       "       [5, 5, 8]], dtype=int32)"
      ]
     },
     "execution_count": 43,
     "metadata": {},
     "output_type": "execute_result"
    }
   ],
   "source": [
    "arr1=np.random.randint(2,10,size=(5,3))\n",
    "arr1"
   ]
  },
  {
   "cell_type": "code",
   "execution_count": 44,
   "id": "d567b3c2-2980-4d0a-84fc-b2bcdf637438",
   "metadata": {},
   "outputs": [
    {
     "data": {
      "text/html": [
       "<div>\n",
       "<style scoped>\n",
       "    .dataframe tbody tr th:only-of-type {\n",
       "        vertical-align: middle;\n",
       "    }\n",
       "\n",
       "    .dataframe tbody tr th {\n",
       "        vertical-align: top;\n",
       "    }\n",
       "\n",
       "    .dataframe thead th {\n",
       "        text-align: right;\n",
       "    }\n",
       "</style>\n",
       "<table border=\"1\" class=\"dataframe\">\n",
       "  <thead>\n",
       "    <tr style=\"text-align: right;\">\n",
       "      <th></th>\n",
       "      <th>0</th>\n",
       "      <th>1</th>\n",
       "      <th>2</th>\n",
       "    </tr>\n",
       "  </thead>\n",
       "  <tbody>\n",
       "    <tr>\n",
       "      <th>0</th>\n",
       "      <td>5</td>\n",
       "      <td>4</td>\n",
       "      <td>2</td>\n",
       "    </tr>\n",
       "    <tr>\n",
       "      <th>1</th>\n",
       "      <td>5</td>\n",
       "      <td>5</td>\n",
       "      <td>3</td>\n",
       "    </tr>\n",
       "    <tr>\n",
       "      <th>2</th>\n",
       "      <td>3</td>\n",
       "      <td>3</td>\n",
       "      <td>2</td>\n",
       "    </tr>\n",
       "    <tr>\n",
       "      <th>3</th>\n",
       "      <td>5</td>\n",
       "      <td>2</td>\n",
       "      <td>2</td>\n",
       "    </tr>\n",
       "    <tr>\n",
       "      <th>4</th>\n",
       "      <td>5</td>\n",
       "      <td>5</td>\n",
       "      <td>8</td>\n",
       "    </tr>\n",
       "  </tbody>\n",
       "</table>\n",
       "</div>"
      ],
      "text/plain": [
       "   0  1  2\n",
       "0  5  4  2\n",
       "1  5  5  3\n",
       "2  3  3  2\n",
       "3  5  2  2\n",
       "4  5  5  8"
      ]
     },
     "execution_count": 44,
     "metadata": {},
     "output_type": "execute_result"
    }
   ],
   "source": [
    "df=pd.DataFrame(arr1)\n",
    "df"
   ]
  },
  {
   "cell_type": "code",
   "execution_count": null,
   "id": "68b9153d-1842-4213-a2bb-7ce937d959d6",
   "metadata": {},
   "outputs": [],
   "source": [
    "df.iloc[1,1]"
   ]
  },
  {
   "cell_type": "code",
   "execution_count": null,
   "id": "fcec03d4-808c-4718-9a59-b1d02e74bd75",
   "metadata": {},
   "outputs": [],
   "source": [
    "df.loc[1,1]"
   ]
  },
  {
   "cell_type": "code",
   "execution_count": null,
   "id": "d54cdcb4-d91e-4827-8fb0-87d22b8ebde9",
   "metadata": {},
   "outputs": [],
   "source": [
    "df.iloc[2,2]=np.nan"
   ]
  },
  {
   "cell_type": "code",
   "execution_count": null,
   "id": "fe60b54e-0abc-4caa-9506-871cfdb027ea",
   "metadata": {},
   "outputs": [],
   "source": [
    "df"
   ]
  },
  {
   "cell_type": "code",
   "execution_count": null,
   "id": "86d207e9-c073-4000-8795-be7ba43b4ed1",
   "metadata": {},
   "outputs": [],
   "source": [
    "df.isna()"
   ]
  },
  {
   "cell_type": "code",
   "execution_count": null,
   "id": "84dd59a6-a71e-4bcc-b1a4-453a2ddd2b2c",
   "metadata": {},
   "outputs": [],
   "source": [
    "df"
   ]
  },
  {
   "cell_type": "code",
   "execution_count": null,
   "id": "ac51b0b3-83a0-4284-bdff-b48c3a684af4",
   "metadata": {},
   "outputs": [],
   "source": [
    "df.isnull()"
   ]
  },
  {
   "cell_type": "code",
   "execution_count": null,
   "id": "88000f7d-2c9a-41cd-bab0-b050502bd322",
   "metadata": {},
   "outputs": [],
   "source": [
    "df.isna().sum()"
   ]
  },
  {
   "cell_type": "code",
   "execution_count": null,
   "id": "5f88bf74-30ea-40aa-b0ef-a1c87867eb45",
   "metadata": {},
   "outputs": [],
   "source": [
    "df.isnull().sum()"
   ]
  },
  {
   "cell_type": "code",
   "execution_count": null,
   "id": "9736b6a2-bda2-4063-a1b4-05c861d88854",
   "metadata": {},
   "outputs": [],
   "source": [
    "file_path=r\"C:\\19-10-2024 Data Science\\numpy and pandas\\2024_12_26_Pandas_Sorting\\Emp_Records.xls\"\n",
    "df=pd.read_excel(file_path)\n",
    "df"
   ]
  },
  {
   "cell_type": "code",
   "execution_count": null,
   "id": "3d6b2b3d-8588-4866-955a-45713e8a014c",
   "metadata": {},
   "outputs": [],
   "source": [
    "df.head(10)"
   ]
  },
  {
   "cell_type": "code",
   "execution_count": null,
   "id": "0d9afe42-04b9-4e79-bbaa-a9ba83ebda10",
   "metadata": {},
   "outputs": [],
   "source": [
    "df"
   ]
  },
  {
   "cell_type": "code",
   "execution_count": null,
   "id": "d8e5693b-891b-43df-8e2c-d535882dd494",
   "metadata": {},
   "outputs": [],
   "source": [
    "df.dropna()"
   ]
  },
  {
   "cell_type": "code",
   "execution_count": null,
   "id": "db3fc54f-9917-493f-85f8-ab8ef2ea542f",
   "metadata": {},
   "outputs": [],
   "source": [
    "df.dropna(axis=0)"
   ]
  },
  {
   "cell_type": "code",
   "execution_count": null,
   "id": "8689431b-19e5-4688-92e2-a7f6e722f805",
   "metadata": {},
   "outputs": [],
   "source": [
    "df.dropna(axis=1)"
   ]
  },
  {
   "cell_type": "code",
   "execution_count": null,
   "id": "0e349f67-8974-4d7a-b768-9c0345f44d06",
   "metadata": {},
   "outputs": [],
   "source": [
    "df.dropna(thresh=7,axis=0)"
   ]
  },
  {
   "cell_type": "code",
   "execution_count": null,
   "id": "5e9a068b-5042-4b34-a103-940518c955cd",
   "metadata": {},
   "outputs": [],
   "source": [
    "df.dropna(axis=1)"
   ]
  },
  {
   "cell_type": "code",
   "execution_count": null,
   "id": "f540e132-c59c-4610-89fd-e0d4d78577e4",
   "metadata": {},
   "outputs": [],
   "source": [
    "df.drop(['Emp ID','First Name'],axis=1)"
   ]
  },
  {
   "cell_type": "code",
   "execution_count": null,
   "id": "34778fe4-c09a-4b7a-af22-387151c47e79",
   "metadata": {},
   "outputs": [],
   "source": [
    "df.drop('Emp ID',axis=1,inplace=False)"
   ]
  },
  {
   "cell_type": "code",
   "execution_count": null,
   "id": "6e39f738-8389-448b-bda4-63af0bf72637",
   "metadata": {},
   "outputs": [],
   "source": [
    "df"
   ]
  },
  {
   "cell_type": "code",
   "execution_count": null,
   "id": "89c07be4-bb2e-4c43-b5f1-dcf602804590",
   "metadata": {},
   "outputs": [],
   "source": [
    "df"
   ]
  },
  {
   "cell_type": "code",
   "execution_count": null,
   "id": "d706af9e-68cb-430f-99e5-499fad0e8de9",
   "metadata": {},
   "outputs": [],
   "source": [
    "df.drop('City',axis=1,inplace=False)"
   ]
  },
  {
   "cell_type": "code",
   "execution_count": null,
   "id": "6d17eae5-cb69-4c75-a3c5-c91ee6626031",
   "metadata": {},
   "outputs": [],
   "source": [
    "df"
   ]
  },
  {
   "cell_type": "code",
   "execution_count": null,
   "id": "8e42ed3f-42b8-4ba0-8b9c-2cd1779b12d8",
   "metadata": {},
   "outputs": [],
   "source": [
    "df"
   ]
  },
  {
   "cell_type": "code",
   "execution_count": null,
   "id": "5fa217a5-15c3-493b-83d6-3099e82d3d83",
   "metadata": {},
   "outputs": [],
   "source": [
    "df.drop(2,axis=0)"
   ]
  },
  {
   "cell_type": "code",
   "execution_count": null,
   "id": "276f0522-86d3-4679-ab4a-796e737e3f49",
   "metadata": {},
   "outputs": [],
   "source": [
    "df"
   ]
  },
  {
   "cell_type": "code",
   "execution_count": null,
   "id": "5889db36-959d-4c70-a8d4-e97fb6f96a3b",
   "metadata": {},
   "outputs": [],
   "source": [
    "df.drop([2,4,6,8],axis=0)"
   ]
  },
  {
   "cell_type": "code",
   "execution_count": null,
   "id": "85b23baf-0e78-4a55-b889-d5e4b78293f4",
   "metadata": {},
   "outputs": [],
   "source": [
    "df.drop([2,3,4,5],axis=0,inplace=True)"
   ]
  },
  {
   "cell_type": "code",
   "execution_count": null,
   "id": "fd1eb53b-233c-46b2-8253-18704f8224a1",
   "metadata": {},
   "outputs": [],
   "source": [
    "df"
   ]
  },
  {
   "cell_type": "code",
   "execution_count": null,
   "id": "d3770e9b-4b99-4d0c-be51-d3b70664a97a",
   "metadata": {},
   "outputs": [],
   "source": [
    "df.fillna(6464)"
   ]
  },
  {
   "cell_type": "code",
   "execution_count": null,
   "id": "6d838d85-5488-4468-b3fd-4ddeaea8364c",
   "metadata": {},
   "outputs": [],
   "source": [
    "df.head(10)"
   ]
  },
  {
   "cell_type": "code",
   "execution_count": null,
   "id": "e684daad-ee32-49c5-9219-58696450ee99",
   "metadata": {},
   "outputs": [],
   "source": [
    "a=df[\"Age in Yrs\"]\n",
    "a.values"
   ]
  },
  {
   "cell_type": "code",
   "execution_count": null,
   "id": "cf425b1e-99fe-4260-9f7c-bb20e0b59541",
   "metadata": {},
   "outputs": [],
   "source": [
    "np.mean(a.values)"
   ]
  },
  {
   "cell_type": "code",
   "execution_count": null,
   "id": "4d13c8c7-b6d8-4ffc-b487-12a859fe7ec0",
   "metadata": {},
   "outputs": [],
   "source": [
    "df[\"Age in Yrs\"].fillna(df[\"Age in Yrs\"].mean())"
   ]
  },
  {
   "cell_type": "code",
   "execution_count": null,
   "id": "9a59505d-e4ea-4cab-953a-3a637b14a699",
   "metadata": {},
   "outputs": [],
   "source": [
    "m=df[\"Age in Yrs\"]\n",
    "m.values"
   ]
  },
  {
   "cell_type": "code",
   "execution_count": null,
   "id": "5b0ff437-46ad-4152-ad9d-4b9a3f95dae1",
   "metadata": {},
   "outputs": [],
   "source": [
    "np.median(m.values)"
   ]
  },
  {
   "cell_type": "code",
   "execution_count": null,
   "id": "a6789311-9a8d-4ea0-bfe2-1112f6289ab3",
   "metadata": {},
   "outputs": [],
   "source": [
    "df[\"Age in Yrs\"].fillna(df[\"Age in Yrs\"].median())"
   ]
  },
  {
   "cell_type": "code",
   "execution_count": null,
   "id": "f59aa95c-1136-4362-b696-6d65b11c49cd",
   "metadata": {},
   "outputs": [],
   "source": [
    "df.Salary.quantile()"
   ]
  },
  {
   "cell_type": "code",
   "execution_count": null,
   "id": "f218bea1-444e-4bc5-a103-fcd1f09610e6",
   "metadata": {},
   "outputs": [],
   "source": [
    "df"
   ]
  },
  {
   "cell_type": "code",
   "execution_count": null,
   "id": "c546b969-5f4d-4450-bef3-c6f8e64a7c54",
   "metadata": {},
   "outputs": [],
   "source": [
    "df.sort_index(axis=1)"
   ]
  },
  {
   "cell_type": "code",
   "execution_count": null,
   "id": "69c69080-fea2-4aa8-bb2d-48dc37f12ed9",
   "metadata": {},
   "outputs": [],
   "source": [
    "df.sort_values(['Salary','City'],ascending=[True, False])"
   ]
  },
  {
   "cell_type": "code",
   "execution_count": null,
   "id": "552c01f7-b5f8-4ae0-a454-ac98866e2c35",
   "metadata": {},
   "outputs": [],
   "source": [
    "df.sort_values('Salary',ascending=False)"
   ]
  },
  {
   "cell_type": "code",
   "execution_count": null,
   "id": "9f393c7e-3342-4803-87f1-6657cc72896f",
   "metadata": {},
   "outputs": [],
   "source": [
    "new_df=df.sort_values('Salary',ascending=False)\n",
    "new_df"
   ]
  },
  {
   "cell_type": "code",
   "execution_count": null,
   "id": "f80a5c55-e5fc-417e-afea-ecda107ef920",
   "metadata": {},
   "outputs": [],
   "source": [
    "new_df.reset_index()"
   ]
  },
  {
   "cell_type": "code",
   "execution_count": null,
   "id": "f40a0537-0d9a-4556-b076-47cbc5fc805a",
   "metadata": {},
   "outputs": [],
   "source": [
    "new_df.set_index('First Name')\n",
    "new_df"
   ]
  },
  {
   "cell_type": "code",
   "execution_count": null,
   "id": "be9af4ca-6612-4e4b-9533-4a944da1c17d",
   "metadata": {},
   "outputs": [],
   "source": [
    "df"
   ]
  },
  {
   "cell_type": "code",
   "execution_count": null,
   "id": "8c519763-4aac-4590-a0f2-e1b0df38a6a0",
   "metadata": {},
   "outputs": [],
   "source": [
    "df.set_index('First Name').sort_index()"
   ]
  },
  {
   "cell_type": "code",
   "execution_count": null,
   "id": "803e41b0-3575-4b23-ad54-cc8a74eb54d1",
   "metadata": {},
   "outputs": [],
   "source": [
    "df"
   ]
  },
  {
   "cell_type": "code",
   "execution_count": null,
   "id": "c08a0df0-4253-482a-90aa-91d4d8f532aa",
   "metadata": {},
   "outputs": [],
   "source": [
    "df.rename({\"First Name\": \"Name\"}, axis=1, inplace=True)\n",
    "df"
   ]
  },
  {
   "cell_type": "code",
   "execution_count": null,
   "id": "138cfe28-184f-431b-814e-8fbc849c66ab",
   "metadata": {},
   "outputs": [],
   "source": [
    "df"
   ]
  },
  {
   "cell_type": "code",
   "execution_count": null,
   "id": "0c480786-0278-45d1-9fbd-b611dd2aa305",
   "metadata": {},
   "outputs": [],
   "source": [
    "df['Salary']"
   ]
  },
  {
   "cell_type": "code",
   "execution_count": null,
   "id": "b7dee305-9710-4a47-a616-5a00331b0772",
   "metadata": {},
   "outputs": [],
   "source": [
    "df[['Salary','City']]"
   ]
  },
  {
   "cell_type": "code",
   "execution_count": null,
   "id": "06fde055-3ee5-4f35-99e6-c37c4cd50a71",
   "metadata": {},
   "outputs": [],
   "source": [
    "df.columns"
   ]
  },
  {
   "cell_type": "code",
   "execution_count": null,
   "id": "89d099d5-06d5-4a6e-8fa8-8f5fc330b821",
   "metadata": {},
   "outputs": [],
   "source": [
    "df.iloc[:,::-1]"
   ]
  },
  {
   "cell_type": "code",
   "execution_count": null,
   "id": "86b0e2ce-eb7a-45e7-9830-1c33d232a448",
   "metadata": {},
   "outputs": [],
   "source": [
    "df.iloc[1:5]"
   ]
  },
  {
   "cell_type": "code",
   "execution_count": null,
   "id": "09790c30-ed54-48f5-aced-88da57755bf5",
   "metadata": {},
   "outputs": [],
   "source": [
    "df.iloc[95:99]"
   ]
  },
  {
   "cell_type": "code",
   "execution_count": null,
   "id": "0c65c3f1-3f7a-4ddb-a0a2-ab4d849720f0",
   "metadata": {},
   "outputs": [],
   "source": [
    "df"
   ]
  },
  {
   "cell_type": "code",
   "execution_count": null,
   "id": "d30ca8ad-b079-41b5-bbaf-f58590ca0e1c",
   "metadata": {},
   "outputs": [],
   "source": [
    "df.iloc[95:100]"
   ]
  },
  {
   "cell_type": "code",
   "execution_count": null,
   "id": "641e945a-a27c-4a76-be4d-1f05156d1966",
   "metadata": {},
   "outputs": [],
   "source": [
    "df.loc[2:5]"
   ]
  },
  {
   "cell_type": "code",
   "execution_count": null,
   "id": "9a8a6967-b645-4cc7-93dd-9cadbb58ef99",
   "metadata": {},
   "outputs": [],
   "source": [
    "df.loc[:]"
   ]
  },
  {
   "cell_type": "code",
   "execution_count": null,
   "id": "cc6bc2be-ce38-4d9f-8f87-f78d37881804",
   "metadata": {},
   "outputs": [],
   "source": [
    "df.loc[3:5,\"Emp ID\":\"First Name\"]"
   ]
  },
  {
   "cell_type": "code",
   "execution_count": null,
   "id": "11dad55a-8282-404b-91e1-c71c0854ee22",
   "metadata": {},
   "outputs": [],
   "source": [
    "df.head()"
   ]
  },
  {
   "cell_type": "code",
   "execution_count": null,
   "id": "e0f11ad4-b9ce-456f-98fd-adb3d604618d",
   "metadata": {},
   "outputs": [],
   "source": [
    "import numpy as np"
   ]
  },
  {
   "cell_type": "code",
   "execution_count": null,
   "id": "19a20237-6abd-40d3-9f7c-e383871c2e3c",
   "metadata": {},
   "outputs": [],
   "source": [
    "import pandas as pd"
   ]
  },
  {
   "cell_type": "code",
   "execution_count": null,
   "id": "540c09dd-0f34-43be-8b08-403f15a0f2e5",
   "metadata": {},
   "outputs": [],
   "source": [
    "file_path=r\"C:\\19-10-2024 Data Science\\numpy and pandas\\2024_12_26_Pandas_Sorting\\Emp_Records.xls\"\n",
    "df=pd.read_excel(file_path)\n",
    "df"
   ]
  },
  {
   "cell_type": "code",
   "execution_count": null,
   "id": "b7583fc7-4609-4e48-80b4-731f7d63ab0d",
   "metadata": {},
   "outputs": [],
   "source": [
    "df.loc[3:5]"
   ]
  },
  {
   "cell_type": "code",
   "execution_count": null,
   "id": "afda6b5b-2a21-44c6-8426-78aa78e49259",
   "metadata": {},
   "outputs": [],
   "source": [
    "df.loc[95:100,'Salary':'City']"
   ]
  },
  {
   "cell_type": "code",
   "execution_count": null,
   "id": "a8161e36-ba47-4a8e-8f1b-4fb7b5ce9e76",
   "metadata": {},
   "outputs": [],
   "source": [
    "df.iloc[-1:-9]"
   ]
  },
  {
   "cell_type": "code",
   "execution_count": null,
   "id": "d9d66f19-64a8-4f85-a4a5-c8d29e279043",
   "metadata": {},
   "outputs": [],
   "source": [
    "df.head()"
   ]
  },
  {
   "cell_type": "code",
   "execution_count": null,
   "id": "a8e54dd6-9597-46ce-9c5d-05d1c3ec2c80",
   "metadata": {},
   "outputs": [],
   "source": [
    "df.head(9)"
   ]
  },
  {
   "cell_type": "code",
   "execution_count": null,
   "id": "a379194b-3216-4308-9850-2af571d9fdd6",
   "metadata": {},
   "outputs": [],
   "source": [
    "df.tail()"
   ]
  },
  {
   "cell_type": "code",
   "execution_count": null,
   "id": "87fd94ed-d738-492d-8ab6-9e2d4230ccb3",
   "metadata": {},
   "outputs": [],
   "source": [
    "df.tail(9)"
   ]
  },
  {
   "cell_type": "code",
   "execution_count": null,
   "id": "ebb5ebe0-1317-4895-83cb-bd9b41446fc5",
   "metadata": {
    "scrolled": true
   },
   "outputs": [],
   "source": [
    "df.items()"
   ]
  },
  {
   "cell_type": "code",
   "execution_count": null,
   "id": "163ed015-ab3e-4baa-8661-7adde146c20b",
   "metadata": {},
   "outputs": [],
   "source": [
    "for col_name,col_data in df.items():\n",
    "    print(\"col_name:\",col_name)\n",
    "    print(col_data)\n",
    "    print(\"*\"*80)\n",
    "    "
   ]
  },
  {
   "cell_type": "code",
   "execution_count": null,
   "id": "cb16413b-e7db-4f61-ac34-0ff38243e7dc",
   "metadata": {},
   "outputs": [],
   "source": [
    "df"
   ]
  },
  {
   "cell_type": "code",
   "execution_count": null,
   "id": "154b08b1-9e96-45ea-88f2-bc4bb229fc62",
   "metadata": {},
   "outputs": [],
   "source": [
    "for row_num in df.index:\n",
    "    print(\"row_num:\",row_num)\n",
    "    print(df.iloc[[row_num]])\n",
    "    print(\"*\"*80)"
   ]
  },
  {
   "cell_type": "code",
   "execution_count": null,
   "id": "915bee3f-c0b9-43df-a6df-26e56288db56",
   "metadata": {},
   "outputs": [],
   "source": [
    "df"
   ]
  },
  {
   "cell_type": "code",
   "execution_count": null,
   "id": "b2291b28-feea-4cdc-a651-46f9861db190",
   "metadata": {},
   "outputs": [],
   "source": [
    "list=[['student_id','age']]\n",
    "list"
   ]
  },
  {
   "cell_type": "code",
   "execution_count": null,
   "id": "d3d203ef-a51d-44ee-94c3-8d3e8a678b7e",
   "metadata": {},
   "outputs": [],
   "source": [
    "df=pd.DataFrame(list)\n",
    "df"
   ]
  },
  {
   "cell_type": "code",
   "execution_count": null,
   "id": "759a39d5-ea5e-4b67-8b56-19bc58f237cf",
   "metadata": {},
   "outputs": [],
   "source": [
    "file_path=r\"C:\\19-10-2024 Data Science\\numpy and pandas\\2024_12_26_Pandas_Sorting\\movies_data.csv\"\n",
    "df=pd.read_csv(file_path)\n",
    "df"
   ]
  },
  {
   "cell_type": "code",
   "execution_count": null,
   "id": "6d6fe042-5b3c-49b4-9616-75c2c8b0eb30",
   "metadata": {},
   "outputs": [],
   "source": [
    "df['genre'].unique()"
   ]
  },
  {
   "cell_type": "code",
   "execution_count": null,
   "id": "baa18468-7372-469c-a056-2ce42a7a5f45",
   "metadata": {},
   "outputs": [],
   "source": [
    "df[['genre', 'star_rating']].drop_duplicates()\n"
   ]
  },
  {
   "cell_type": "code",
   "execution_count": null,
   "id": "ca969d6e-d133-42ca-974c-ad84ba3f1bbd",
   "metadata": {},
   "outputs": [],
   "source": [
    "df['genre'].nunique()"
   ]
  },
  {
   "cell_type": "code",
   "execution_count": null,
   "id": "078daeec-6ea5-40ee-8d5c-de9f8601f84e",
   "metadata": {},
   "outputs": [],
   "source": [
    "df[['genre', 'star_rating']].nunique()\n"
   ]
  },
  {
   "cell_type": "code",
   "execution_count": null,
   "id": "13fa69fe-2c9e-48a4-95cf-75a7807d65e1",
   "metadata": {},
   "outputs": [],
   "source": [
    "df['genre'].value_counts()"
   ]
  },
  {
   "cell_type": "code",
   "execution_count": null,
   "id": "7a562eb2-4c81-4dcb-bd95-1d618667fc39",
   "metadata": {},
   "outputs": [],
   "source": [
    "df[['genre','content_rating']].value_counts()"
   ]
  },
  {
   "cell_type": "code",
   "execution_count": null,
   "id": "e4db6658-0079-4922-89f2-8b1139006ad0",
   "metadata": {},
   "outputs": [],
   "source": [
    "pd.crosstab(df.genre,df.star_rating)"
   ]
  },
  {
   "cell_type": "code",
   "execution_count": null,
   "id": "6165d1a3-864b-4989-b060-b15b44b6f248",
   "metadata": {},
   "outputs": [],
   "source": [
    "import seaborn as sns"
   ]
  },
  {
   "cell_type": "code",
   "execution_count": null,
   "id": "71e64a36-aa28-4007-b4d2-3cc13f80a488",
   "metadata": {},
   "outputs": [],
   "source": [
    "sns.countplot(x =df['star_rating'])"
   ]
  },
  {
   "cell_type": "code",
   "execution_count": null,
   "id": "36b964f8-b8a5-481f-8291-269b37426a70",
   "metadata": {},
   "outputs": [],
   "source": [
    "sns.countplot(x = df['genre'],hue =df['star_rating'])"
   ]
  },
  {
   "cell_type": "code",
   "execution_count": null,
   "id": "4e982b4f-45c6-47fa-8b8f-5d5ab77df6d6",
   "metadata": {},
   "outputs": [],
   "source": [
    "df.info()"
   ]
  },
  {
   "cell_type": "code",
   "execution_count": null,
   "id": "159b8d90-3ccc-445b-87a7-8b209ae42c22",
   "metadata": {},
   "outputs": [],
   "source": [
    "df"
   ]
  },
  {
   "cell_type": "code",
   "execution_count": null,
   "id": "db0ec6d1-308e-4b2f-a269-d927564284f1",
   "metadata": {},
   "outputs": [],
   "source": [
    "df.rename(columns={\"title\":\"movie_title\"})"
   ]
  },
  {
   "cell_type": "code",
   "execution_count": null,
   "id": "f53814d3-722e-4cd3-853d-d67308a6dd9b",
   "metadata": {},
   "outputs": [],
   "source": [
    "df.rename(columns={\"movie_title\":\"title\"})"
   ]
  },
  {
   "cell_type": "code",
   "execution_count": null,
   "id": "6e74ed7b-594f-4b40-a281-3189150455e9",
   "metadata": {},
   "outputs": [],
   "source": [
    "from docx import Document\n",
    "\n",
    "doc = Document()\n",
    "\n",
    "def add_heading(text):\n",
    "    doc.add_heading(text, level=1)\n",
    "\n",
    "doc.add_heading('Your Full Name', level=0)\n",
    "doc.add_paragraph('📍 City, Country | 📞 +123-456-7890 | ✉️ email@example.com | 🔗 GitHub | 🔗 LinkedIn | 🔗 Portfolio')\n",
    "\n",
    "add_heading('Professional Summary')\n",
    "doc.add_paragraph(\n",
    "    \"Results-driven AI & Data Science professional with experience in applying machine learning, deep learning, and data analytics \"\n",
    "    \"to solve real-world problems at scale. Proven success in building predictive models, NLP applications, and scalable data pipelines. \"\n",
    "    \"Strong foundation in statistics, software engineering, and cross-functional collaboration. Seeking to contribute innovative AI solutions \"\n",
    "    \"at a mission-driven company like Google or Microsoft.\"\n",
    ")\n",
    "\n",
    "add_heading('Skills')\n",
    "doc.add_paragraph(\n",
    "    \"Programming: Python, R, SQL, C++\\n\"\n",
    "    \"Libraries/Frameworks: TensorFlow, PyTorch, Scikit-learn, Keras, Hugging Face\\n\"\n",
    "    \"Data Tools: Pandas, NumPy, Matplotlib, Seaborn\\n\"\n",
    "    \"AI/ML: Supervised & Unsupervised Learning, Deep Learning, NLP, Transformers, Computer Vision\\n\"\n",
    "    \"MLOps: MLflow, DVC, Docker, Kubernetes, CI/CD\\n\"\n",
    "    \"Cloud & Big Data: AWS (S3, SageMaker), GCP, Apache Spark, Hadoop\\n\"\n",
    "    \"Visualization: Tableau, Power BI\\n\"\n",
    "    \"Statistics: A/B Testing, Hypothesis Testing, Time Series, Bayesian Inference\"\n",
    ")\n",
    "\n",
    "add_heading('Professional Experience')\n",
    "doc.add_paragraph(\n",
    "    \"Machine Learning Engineer | [Company Name], [Location] | [Year – Present]\\n\"\n",
    "    \"- Developed a fraud detection model using XGBoost, reducing false positives by 35%\\n\"\n",
    "    \"- Built NLP pipelines using BERT for sentiment analysis, improving prediction accuracy by 28%\\n\"\n",
    "    \"- Deployed models via AWS SageMaker with CI/CD, cutting deployment time by 40%\"\n",
    ")\n",
    "doc.add_paragraph(\n",
    "    \"Data Scientist Intern | [Company Name], [Location] | [Year – Year]\\n\"\n",
    "    \"- Designed a time-series LSTM model predicting demand with 92% accuracy\\n\"\n",
    "    \"- Conducted A/B testing, yielding a 12% lift in user engagement\\n\"\n",
    "    \"- Cleaned and processed large-scale datasets using PySpark and SQL\"\n",
    ")\n",
    "\n",
    "add_heading('Projects')\n",
    "doc.add_paragraph(\n",
    "    \"AI-Powered Resume Parser\\n\"\n",
    "    \"- Built a resume parsing tool using NLP and SpaCy\\n\"\n",
    "    \"- Deployed with Streamlit & Heroku, open-sourced on GitHub\\n\\n\"\n",
    "    \"End-to-End MLOps Pipeline for Image Classification\\n\"\n",
    "    \"- Built CNN with PyTorch, tracked using MLflow, deployed with Docker\\n\\n\"\n",
    "    \"Chatbot using Transformer Models (GPT/BERT)\\n\"\n",
    "    \"- Created a chatbot with Hugging Face Transformers, deployed via Flask\"\n",
    ")\n",
    "\n",
    "add_heading('Education')\n",
    "doc.add_paragraph(\n",
    "    \"[Your Degree], [University Name]\\n\"\n",
    "    \"GPA: X.XX / 4.0 | Relevant Coursework: Machine Learning, Deep Learning, Statistics, Algorithms\"\n",
    ")\n",
    "\n",
    "add_heading('Certifications')\n",
    "doc.add_paragraph(\n",
    "    \"- TensorFlow Developer Certificate – Google\\n\"\n",
    "    \"- AWS Certified Machine Learning – Specialty\\n\"\n",
    "    \"- Data Science Specialization – Coursera (Johns Hopkins)\"\n",
    ")\n",
    "\n",
    "doc.save(\"AI_ML_DataScience_Resume_Template.docx\")\n"
   ]
  },
  {
   "cell_type": "code",
   "execution_count": null,
   "id": "94d9d5d7-214d-4dba-8e30-af2dd36a79c5",
   "metadata": {},
   "outputs": [],
   "source": [
    "import pandas as pd"
   ]
  },
  {
   "cell_type": "markdown",
   "id": "4e210987",
   "metadata": {},
   "source": [
    "array=[2,3,4,5,6]\n",
    "array"
   ]
  },
  {
   "cell_type": "code",
   "execution_count": 59,
   "id": "ee254eeb",
   "metadata": {},
   "outputs": [
    {
     "data": {
      "text/plain": [
       "[2, 4, 6, 8, 9]"
      ]
     },
     "execution_count": 59,
     "metadata": {},
     "output_type": "execute_result"
    }
   ],
   "source": [
    "array=[2,4,6,8,9]\n",
    "array"
   ]
  },
  {
   "cell_type": "code",
   "execution_count": 60,
   "id": "1869cb7e",
   "metadata": {},
   "outputs": [
    {
     "data": {
      "text/html": [
       "<div>\n",
       "<style scoped>\n",
       "    .dataframe tbody tr th:only-of-type {\n",
       "        vertical-align: middle;\n",
       "    }\n",
       "\n",
       "    .dataframe tbody tr th {\n",
       "        vertical-align: top;\n",
       "    }\n",
       "\n",
       "    .dataframe thead th {\n",
       "        text-align: right;\n",
       "    }\n",
       "</style>\n",
       "<table border=\"1\" class=\"dataframe\">\n",
       "  <thead>\n",
       "    <tr style=\"text-align: right;\">\n",
       "      <th></th>\n",
       "      <th>0</th>\n",
       "    </tr>\n",
       "  </thead>\n",
       "  <tbody>\n",
       "    <tr>\n",
       "      <th>0</th>\n",
       "      <td>2</td>\n",
       "    </tr>\n",
       "    <tr>\n",
       "      <th>1</th>\n",
       "      <td>4</td>\n",
       "    </tr>\n",
       "    <tr>\n",
       "      <th>2</th>\n",
       "      <td>6</td>\n",
       "    </tr>\n",
       "    <tr>\n",
       "      <th>3</th>\n",
       "      <td>8</td>\n",
       "    </tr>\n",
       "    <tr>\n",
       "      <th>4</th>\n",
       "      <td>9</td>\n",
       "    </tr>\n",
       "  </tbody>\n",
       "</table>\n",
       "</div>"
      ],
      "text/plain": [
       "   0\n",
       "0  2\n",
       "1  4\n",
       "2  6\n",
       "3  8\n",
       "4  9"
      ]
     },
     "execution_count": 60,
     "metadata": {},
     "output_type": "execute_result"
    }
   ],
   "source": [
    "df=pd.DataFrame(array)\n",
    "df"
   ]
  },
  {
   "cell_type": "code",
   "execution_count": 63,
   "id": "e5c30d43",
   "metadata": {},
   "outputs": [
    {
     "data": {
      "text/html": [
       "<div>\n",
       "<style scoped>\n",
       "    .dataframe tbody tr th:only-of-type {\n",
       "        vertical-align: middle;\n",
       "    }\n",
       "\n",
       "    .dataframe tbody tr th {\n",
       "        vertical-align: top;\n",
       "    }\n",
       "\n",
       "    .dataframe thead th {\n",
       "        text-align: right;\n",
       "    }\n",
       "</style>\n",
       "<table border=\"1\" class=\"dataframe\">\n",
       "  <thead>\n",
       "    <tr style=\"text-align: right;\">\n",
       "      <th></th>\n",
       "      <th>credit.policy</th>\n",
       "      <th>purpose</th>\n",
       "      <th>int.rate</th>\n",
       "      <th>installment</th>\n",
       "      <th>log.annual.inc</th>\n",
       "      <th>dti</th>\n",
       "      <th>fico</th>\n",
       "      <th>days.with.cr.line</th>\n",
       "      <th>revol.bal</th>\n",
       "      <th>revol.util</th>\n",
       "      <th>inq.last.6mths</th>\n",
       "      <th>delinq.2yrs</th>\n",
       "      <th>pub.rec</th>\n",
       "      <th>not.fully.paid</th>\n",
       "    </tr>\n",
       "  </thead>\n",
       "  <tbody>\n",
       "    <tr>\n",
       "      <th>0</th>\n",
       "      <td>1</td>\n",
       "      <td>debt_consolidation</td>\n",
       "      <td>0.1189</td>\n",
       "      <td>829.10</td>\n",
       "      <td>11.350407</td>\n",
       "      <td>19.48</td>\n",
       "      <td>737</td>\n",
       "      <td>5639.958333</td>\n",
       "      <td>28854</td>\n",
       "      <td>52.1</td>\n",
       "      <td>0</td>\n",
       "      <td>0</td>\n",
       "      <td>0</td>\n",
       "      <td>0</td>\n",
       "    </tr>\n",
       "    <tr>\n",
       "      <th>1</th>\n",
       "      <td>1</td>\n",
       "      <td>credit_card</td>\n",
       "      <td>0.1071</td>\n",
       "      <td>228.22</td>\n",
       "      <td>11.082143</td>\n",
       "      <td>14.29</td>\n",
       "      <td>707</td>\n",
       "      <td>2760.000000</td>\n",
       "      <td>33623</td>\n",
       "      <td>76.7</td>\n",
       "      <td>0</td>\n",
       "      <td>0</td>\n",
       "      <td>0</td>\n",
       "      <td>0</td>\n",
       "    </tr>\n",
       "    <tr>\n",
       "      <th>2</th>\n",
       "      <td>1</td>\n",
       "      <td>debt_consolidation</td>\n",
       "      <td>0.1357</td>\n",
       "      <td>366.86</td>\n",
       "      <td>10.373491</td>\n",
       "      <td>11.63</td>\n",
       "      <td>682</td>\n",
       "      <td>4710.000000</td>\n",
       "      <td>3511</td>\n",
       "      <td>25.6</td>\n",
       "      <td>1</td>\n",
       "      <td>0</td>\n",
       "      <td>0</td>\n",
       "      <td>0</td>\n",
       "    </tr>\n",
       "    <tr>\n",
       "      <th>3</th>\n",
       "      <td>1</td>\n",
       "      <td>debt_consolidation</td>\n",
       "      <td>0.1008</td>\n",
       "      <td>162.34</td>\n",
       "      <td>11.350407</td>\n",
       "      <td>8.10</td>\n",
       "      <td>712</td>\n",
       "      <td>2699.958333</td>\n",
       "      <td>33667</td>\n",
       "      <td>73.2</td>\n",
       "      <td>1</td>\n",
       "      <td>0</td>\n",
       "      <td>0</td>\n",
       "      <td>0</td>\n",
       "    </tr>\n",
       "    <tr>\n",
       "      <th>4</th>\n",
       "      <td>1</td>\n",
       "      <td>credit_card</td>\n",
       "      <td>0.1426</td>\n",
       "      <td>102.92</td>\n",
       "      <td>11.299732</td>\n",
       "      <td>14.97</td>\n",
       "      <td>667</td>\n",
       "      <td>4066.000000</td>\n",
       "      <td>4740</td>\n",
       "      <td>39.5</td>\n",
       "      <td>0</td>\n",
       "      <td>1</td>\n",
       "      <td>0</td>\n",
       "      <td>0</td>\n",
       "    </tr>\n",
       "    <tr>\n",
       "      <th>...</th>\n",
       "      <td>...</td>\n",
       "      <td>...</td>\n",
       "      <td>...</td>\n",
       "      <td>...</td>\n",
       "      <td>...</td>\n",
       "      <td>...</td>\n",
       "      <td>...</td>\n",
       "      <td>...</td>\n",
       "      <td>...</td>\n",
       "      <td>...</td>\n",
       "      <td>...</td>\n",
       "      <td>...</td>\n",
       "      <td>...</td>\n",
       "      <td>...</td>\n",
       "    </tr>\n",
       "    <tr>\n",
       "      <th>9573</th>\n",
       "      <td>0</td>\n",
       "      <td>all_other</td>\n",
       "      <td>0.1461</td>\n",
       "      <td>344.76</td>\n",
       "      <td>12.180755</td>\n",
       "      <td>10.39</td>\n",
       "      <td>672</td>\n",
       "      <td>10474.000000</td>\n",
       "      <td>215372</td>\n",
       "      <td>82.1</td>\n",
       "      <td>2</td>\n",
       "      <td>0</td>\n",
       "      <td>0</td>\n",
       "      <td>1</td>\n",
       "    </tr>\n",
       "    <tr>\n",
       "      <th>9574</th>\n",
       "      <td>0</td>\n",
       "      <td>all_other</td>\n",
       "      <td>0.1253</td>\n",
       "      <td>257.70</td>\n",
       "      <td>11.141862</td>\n",
       "      <td>0.21</td>\n",
       "      <td>722</td>\n",
       "      <td>4380.000000</td>\n",
       "      <td>184</td>\n",
       "      <td>1.1</td>\n",
       "      <td>5</td>\n",
       "      <td>0</td>\n",
       "      <td>0</td>\n",
       "      <td>1</td>\n",
       "    </tr>\n",
       "    <tr>\n",
       "      <th>9575</th>\n",
       "      <td>0</td>\n",
       "      <td>debt_consolidation</td>\n",
       "      <td>0.1071</td>\n",
       "      <td>97.81</td>\n",
       "      <td>10.596635</td>\n",
       "      <td>13.09</td>\n",
       "      <td>687</td>\n",
       "      <td>3450.041667</td>\n",
       "      <td>10036</td>\n",
       "      <td>82.9</td>\n",
       "      <td>8</td>\n",
       "      <td>0</td>\n",
       "      <td>0</td>\n",
       "      <td>1</td>\n",
       "    </tr>\n",
       "    <tr>\n",
       "      <th>9576</th>\n",
       "      <td>0</td>\n",
       "      <td>home_improvement</td>\n",
       "      <td>0.1600</td>\n",
       "      <td>351.58</td>\n",
       "      <td>10.819778</td>\n",
       "      <td>19.18</td>\n",
       "      <td>692</td>\n",
       "      <td>1800.000000</td>\n",
       "      <td>0</td>\n",
       "      <td>3.2</td>\n",
       "      <td>5</td>\n",
       "      <td>0</td>\n",
       "      <td>0</td>\n",
       "      <td>1</td>\n",
       "    </tr>\n",
       "    <tr>\n",
       "      <th>9577</th>\n",
       "      <td>0</td>\n",
       "      <td>debt_consolidation</td>\n",
       "      <td>0.1392</td>\n",
       "      <td>853.43</td>\n",
       "      <td>11.264464</td>\n",
       "      <td>16.28</td>\n",
       "      <td>732</td>\n",
       "      <td>4740.000000</td>\n",
       "      <td>37879</td>\n",
       "      <td>57.0</td>\n",
       "      <td>6</td>\n",
       "      <td>0</td>\n",
       "      <td>0</td>\n",
       "      <td>1</td>\n",
       "    </tr>\n",
       "  </tbody>\n",
       "</table>\n",
       "<p>9578 rows × 14 columns</p>\n",
       "</div>"
      ],
      "text/plain": [
       "      credit.policy             purpose  int.rate  installment  \\\n",
       "0                 1  debt_consolidation    0.1189       829.10   \n",
       "1                 1         credit_card    0.1071       228.22   \n",
       "2                 1  debt_consolidation    0.1357       366.86   \n",
       "3                 1  debt_consolidation    0.1008       162.34   \n",
       "4                 1         credit_card    0.1426       102.92   \n",
       "...             ...                 ...       ...          ...   \n",
       "9573              0           all_other    0.1461       344.76   \n",
       "9574              0           all_other    0.1253       257.70   \n",
       "9575              0  debt_consolidation    0.1071        97.81   \n",
       "9576              0    home_improvement    0.1600       351.58   \n",
       "9577              0  debt_consolidation    0.1392       853.43   \n",
       "\n",
       "      log.annual.inc    dti  fico  days.with.cr.line  revol.bal  revol.util  \\\n",
       "0          11.350407  19.48   737        5639.958333      28854        52.1   \n",
       "1          11.082143  14.29   707        2760.000000      33623        76.7   \n",
       "2          10.373491  11.63   682        4710.000000       3511        25.6   \n",
       "3          11.350407   8.10   712        2699.958333      33667        73.2   \n",
       "4          11.299732  14.97   667        4066.000000       4740        39.5   \n",
       "...              ...    ...   ...                ...        ...         ...   \n",
       "9573       12.180755  10.39   672       10474.000000     215372        82.1   \n",
       "9574       11.141862   0.21   722        4380.000000        184         1.1   \n",
       "9575       10.596635  13.09   687        3450.041667      10036        82.9   \n",
       "9576       10.819778  19.18   692        1800.000000          0         3.2   \n",
       "9577       11.264464  16.28   732        4740.000000      37879        57.0   \n",
       "\n",
       "      inq.last.6mths  delinq.2yrs  pub.rec  not.fully.paid  \n",
       "0                  0            0        0               0  \n",
       "1                  0            0        0               0  \n",
       "2                  1            0        0               0  \n",
       "3                  1            0        0               0  \n",
       "4                  0            1        0               0  \n",
       "...              ...          ...      ...             ...  \n",
       "9573               2            0        0               1  \n",
       "9574               5            0        0               1  \n",
       "9575               8            0        0               1  \n",
       "9576               5            0        0               1  \n",
       "9577               6            0        0               1  \n",
       "\n",
       "[9578 rows x 14 columns]"
      ]
     },
     "execution_count": 63,
     "metadata": {},
     "output_type": "execute_result"
    }
   ],
   "source": [
    "file_path=r\"C:\\19-10-2024 Data Science\\numpy and pandas\\2024_12_23_Pandas\\loan_data.csv\"\n",
    "df=pd.read_csv(file_path)\n",
    "df"
   ]
  },
  {
   "cell_type": "code",
   "execution_count": 64,
   "id": "19ab8d0d",
   "metadata": {},
   "outputs": [
    {
     "data": {
      "text/html": [
       "<div>\n",
       "<style scoped>\n",
       "    .dataframe tbody tr th:only-of-type {\n",
       "        vertical-align: middle;\n",
       "    }\n",
       "\n",
       "    .dataframe tbody tr th {\n",
       "        vertical-align: top;\n",
       "    }\n",
       "\n",
       "    .dataframe thead th {\n",
       "        text-align: right;\n",
       "    }\n",
       "</style>\n",
       "<table border=\"1\" class=\"dataframe\">\n",
       "  <thead>\n",
       "    <tr style=\"text-align: right;\">\n",
       "      <th></th>\n",
       "      <th>credit.policy</th>\n",
       "      <th>purpose</th>\n",
       "      <th>int.rate</th>\n",
       "      <th>installment</th>\n",
       "      <th>log.annual.inc</th>\n",
       "      <th>dti</th>\n",
       "      <th>fico</th>\n",
       "      <th>days.with.cr.line</th>\n",
       "      <th>revol.bal</th>\n",
       "      <th>revol.util</th>\n",
       "      <th>inq.last.6mths</th>\n",
       "      <th>delinq.2yrs</th>\n",
       "      <th>pub.rec</th>\n",
       "      <th>not.fully.paid</th>\n",
       "    </tr>\n",
       "  </thead>\n",
       "  <tbody>\n",
       "    <tr>\n",
       "      <th>0</th>\n",
       "      <td>1</td>\n",
       "      <td>debt_consolidation</td>\n",
       "      <td>0.1189</td>\n",
       "      <td>829.10</td>\n",
       "      <td>11.350407</td>\n",
       "      <td>19.48</td>\n",
       "      <td>737</td>\n",
       "      <td>5639.958333</td>\n",
       "      <td>28854</td>\n",
       "      <td>52.1</td>\n",
       "      <td>0</td>\n",
       "      <td>0</td>\n",
       "      <td>0</td>\n",
       "      <td>0</td>\n",
       "    </tr>\n",
       "    <tr>\n",
       "      <th>1</th>\n",
       "      <td>1</td>\n",
       "      <td>credit_card</td>\n",
       "      <td>0.1071</td>\n",
       "      <td>228.22</td>\n",
       "      <td>11.082143</td>\n",
       "      <td>14.29</td>\n",
       "      <td>707</td>\n",
       "      <td>2760.000000</td>\n",
       "      <td>33623</td>\n",
       "      <td>76.7</td>\n",
       "      <td>0</td>\n",
       "      <td>0</td>\n",
       "      <td>0</td>\n",
       "      <td>0</td>\n",
       "    </tr>\n",
       "  </tbody>\n",
       "</table>\n",
       "</div>"
      ],
      "text/plain": [
       "   credit.policy             purpose  int.rate  installment  log.annual.inc  \\\n",
       "0              1  debt_consolidation    0.1189       829.10       11.350407   \n",
       "1              1         credit_card    0.1071       228.22       11.082143   \n",
       "\n",
       "     dti  fico  days.with.cr.line  revol.bal  revol.util  inq.last.6mths  \\\n",
       "0  19.48   737        5639.958333      28854        52.1               0   \n",
       "1  14.29   707        2760.000000      33623        76.7               0   \n",
       "\n",
       "   delinq.2yrs  pub.rec  not.fully.paid  \n",
       "0            0        0               0  \n",
       "1            0        0               0  "
      ]
     },
     "execution_count": 64,
     "metadata": {},
     "output_type": "execute_result"
    }
   ],
   "source": [
    "df.head(2)"
   ]
  },
  {
   "cell_type": "code",
   "execution_count": 65,
   "id": "2ab7263d",
   "metadata": {},
   "outputs": [
    {
     "data": {
      "text/html": [
       "<div>\n",
       "<style scoped>\n",
       "    .dataframe tbody tr th:only-of-type {\n",
       "        vertical-align: middle;\n",
       "    }\n",
       "\n",
       "    .dataframe tbody tr th {\n",
       "        vertical-align: top;\n",
       "    }\n",
       "\n",
       "    .dataframe thead th {\n",
       "        text-align: right;\n",
       "    }\n",
       "</style>\n",
       "<table border=\"1\" class=\"dataframe\">\n",
       "  <thead>\n",
       "    <tr style=\"text-align: right;\">\n",
       "      <th></th>\n",
       "      <th>credit.policy</th>\n",
       "      <th>purpose</th>\n",
       "      <th>int.rate</th>\n",
       "      <th>installment</th>\n",
       "      <th>log.annual.inc</th>\n",
       "      <th>dti</th>\n",
       "      <th>fico</th>\n",
       "      <th>days.with.cr.line</th>\n",
       "      <th>revol.bal</th>\n",
       "      <th>revol.util</th>\n",
       "      <th>inq.last.6mths</th>\n",
       "      <th>delinq.2yrs</th>\n",
       "      <th>pub.rec</th>\n",
       "      <th>not.fully.paid</th>\n",
       "      <th>total</th>\n",
       "      <th>avarage</th>\n",
       "    </tr>\n",
       "  </thead>\n",
       "  <tbody>\n",
       "    <tr>\n",
       "      <th>0</th>\n",
       "      <td>1</td>\n",
       "      <td>debt_consolidation</td>\n",
       "      <td>0.1189</td>\n",
       "      <td>829.10</td>\n",
       "      <td>11.350407</td>\n",
       "      <td>19.48</td>\n",
       "      <td>737</td>\n",
       "      <td>5639.958333</td>\n",
       "      <td>28854</td>\n",
       "      <td>52.1</td>\n",
       "      <td>0</td>\n",
       "      <td>0</td>\n",
       "      <td>0</td>\n",
       "      <td>0</td>\n",
       "      <td>29694.450407</td>\n",
       "      <td>9898.150136</td>\n",
       "    </tr>\n",
       "    <tr>\n",
       "      <th>1</th>\n",
       "      <td>1</td>\n",
       "      <td>credit_card</td>\n",
       "      <td>0.1071</td>\n",
       "      <td>228.22</td>\n",
       "      <td>11.082143</td>\n",
       "      <td>14.29</td>\n",
       "      <td>707</td>\n",
       "      <td>2760.000000</td>\n",
       "      <td>33623</td>\n",
       "      <td>76.7</td>\n",
       "      <td>0</td>\n",
       "      <td>0</td>\n",
       "      <td>0</td>\n",
       "      <td>0</td>\n",
       "      <td>33862.302143</td>\n",
       "      <td>11287.434048</td>\n",
       "    </tr>\n",
       "    <tr>\n",
       "      <th>2</th>\n",
       "      <td>1</td>\n",
       "      <td>debt_consolidation</td>\n",
       "      <td>0.1357</td>\n",
       "      <td>366.86</td>\n",
       "      <td>10.373491</td>\n",
       "      <td>11.63</td>\n",
       "      <td>682</td>\n",
       "      <td>4710.000000</td>\n",
       "      <td>3511</td>\n",
       "      <td>25.6</td>\n",
       "      <td>1</td>\n",
       "      <td>0</td>\n",
       "      <td>0</td>\n",
       "      <td>0</td>\n",
       "      <td>3888.233491</td>\n",
       "      <td>1296.077830</td>\n",
       "    </tr>\n",
       "    <tr>\n",
       "      <th>3</th>\n",
       "      <td>1</td>\n",
       "      <td>debt_consolidation</td>\n",
       "      <td>0.1008</td>\n",
       "      <td>162.34</td>\n",
       "      <td>11.350407</td>\n",
       "      <td>8.10</td>\n",
       "      <td>712</td>\n",
       "      <td>2699.958333</td>\n",
       "      <td>33667</td>\n",
       "      <td>73.2</td>\n",
       "      <td>1</td>\n",
       "      <td>0</td>\n",
       "      <td>0</td>\n",
       "      <td>0</td>\n",
       "      <td>33840.690407</td>\n",
       "      <td>11280.230136</td>\n",
       "    </tr>\n",
       "    <tr>\n",
       "      <th>4</th>\n",
       "      <td>1</td>\n",
       "      <td>credit_card</td>\n",
       "      <td>0.1426</td>\n",
       "      <td>102.92</td>\n",
       "      <td>11.299732</td>\n",
       "      <td>14.97</td>\n",
       "      <td>667</td>\n",
       "      <td>4066.000000</td>\n",
       "      <td>4740</td>\n",
       "      <td>39.5</td>\n",
       "      <td>0</td>\n",
       "      <td>1</td>\n",
       "      <td>0</td>\n",
       "      <td>0</td>\n",
       "      <td>4854.219732</td>\n",
       "      <td>1618.073244</td>\n",
       "    </tr>\n",
       "  </tbody>\n",
       "</table>\n",
       "</div>"
      ],
      "text/plain": [
       "   credit.policy             purpose  int.rate  installment  log.annual.inc  \\\n",
       "0              1  debt_consolidation    0.1189       829.10       11.350407   \n",
       "1              1         credit_card    0.1071       228.22       11.082143   \n",
       "2              1  debt_consolidation    0.1357       366.86       10.373491   \n",
       "3              1  debt_consolidation    0.1008       162.34       11.350407   \n",
       "4              1         credit_card    0.1426       102.92       11.299732   \n",
       "\n",
       "     dti  fico  days.with.cr.line  revol.bal  revol.util  inq.last.6mths  \\\n",
       "0  19.48   737        5639.958333      28854        52.1               0   \n",
       "1  14.29   707        2760.000000      33623        76.7               0   \n",
       "2  11.63   682        4710.000000       3511        25.6               1   \n",
       "3   8.10   712        2699.958333      33667        73.2               1   \n",
       "4  14.97   667        4066.000000       4740        39.5               0   \n",
       "\n",
       "   delinq.2yrs  pub.rec  not.fully.paid         total       avarage  \n",
       "0            0        0               0  29694.450407   9898.150136  \n",
       "1            0        0               0  33862.302143  11287.434048  \n",
       "2            0        0               0   3888.233491   1296.077830  \n",
       "3            0        0               0  33840.690407  11280.230136  \n",
       "4            1        0               0   4854.219732   1618.073244  "
      ]
     },
     "execution_count": 65,
     "metadata": {},
     "output_type": "execute_result"
    }
   ],
   "source": [
    "df['total']=df['installment'] + df['log.annual.inc'] + df['revol.bal']\n",
    "df['avarage']=df['total']/3\n",
    "df.head()"
   ]
  },
  {
   "cell_type": "code",
   "execution_count": 67,
   "id": "a3e0c775",
   "metadata": {},
   "outputs": [
    {
     "data": {
      "text/plain": [
       "0        29694.450407\n",
       "1        33862.302143\n",
       "2         3888.233491\n",
       "3        33840.690407\n",
       "4         4854.219732\n",
       "            ...      \n",
       "9573    215728.940755\n",
       "9574       452.841862\n",
       "9575     10144.406635\n",
       "9576       362.399778\n",
       "9577     38743.694464\n",
       "Name: total, Length: 9578, dtype: float64"
      ]
     },
     "execution_count": 67,
     "metadata": {},
     "output_type": "execute_result"
    }
   ],
   "source": [
    "df['total']"
   ]
  },
  {
   "cell_type": "code",
   "execution_count": 68,
   "id": "d4922ef6",
   "metadata": {},
   "outputs": [
    {
     "data": {
      "text/html": [
       "<div>\n",
       "<style scoped>\n",
       "    .dataframe tbody tr th:only-of-type {\n",
       "        vertical-align: middle;\n",
       "    }\n",
       "\n",
       "    .dataframe tbody tr th {\n",
       "        vertical-align: top;\n",
       "    }\n",
       "\n",
       "    .dataframe thead th {\n",
       "        text-align: right;\n",
       "    }\n",
       "</style>\n",
       "<table border=\"1\" class=\"dataframe\">\n",
       "  <thead>\n",
       "    <tr style=\"text-align: right;\">\n",
       "      <th></th>\n",
       "      <th>Emp ID</th>\n",
       "      <th>First Name</th>\n",
       "      <th>Age in Yrs</th>\n",
       "      <th>Weight in Kgs</th>\n",
       "      <th>Age in Company</th>\n",
       "      <th>Salary</th>\n",
       "      <th>City</th>\n",
       "    </tr>\n",
       "  </thead>\n",
       "  <tbody>\n",
       "    <tr>\n",
       "      <th>0</th>\n",
       "      <td>677509</td>\n",
       "      <td>Lois</td>\n",
       "      <td>36.36</td>\n",
       "      <td>60</td>\n",
       "      <td>13.68</td>\n",
       "      <td>168251</td>\n",
       "      <td>Denver</td>\n",
       "    </tr>\n",
       "    <tr>\n",
       "      <th>1</th>\n",
       "      <td>940761</td>\n",
       "      <td>Brenda</td>\n",
       "      <td>47.02</td>\n",
       "      <td>60</td>\n",
       "      <td>9.01</td>\n",
       "      <td>51063</td>\n",
       "      <td>Stonewall</td>\n",
       "    </tr>\n",
       "    <tr>\n",
       "      <th>2</th>\n",
       "      <td>428945</td>\n",
       "      <td>Joe</td>\n",
       "      <td>54.15</td>\n",
       "      <td>68</td>\n",
       "      <td>0.98</td>\n",
       "      <td>50155</td>\n",
       "      <td>Michigantown</td>\n",
       "    </tr>\n",
       "    <tr>\n",
       "      <th>3</th>\n",
       "      <td>408351</td>\n",
       "      <td>Diane</td>\n",
       "      <td>39.67</td>\n",
       "      <td>51</td>\n",
       "      <td>18.30</td>\n",
       "      <td>180294</td>\n",
       "      <td>Hydetown</td>\n",
       "    </tr>\n",
       "    <tr>\n",
       "      <th>4</th>\n",
       "      <td>193819</td>\n",
       "      <td>Benjamin</td>\n",
       "      <td>40.31</td>\n",
       "      <td>58</td>\n",
       "      <td>4.01</td>\n",
       "      <td>117642</td>\n",
       "      <td>Fremont</td>\n",
       "    </tr>\n",
       "    <tr>\n",
       "      <th>...</th>\n",
       "      <td>...</td>\n",
       "      <td>...</td>\n",
       "      <td>...</td>\n",
       "      <td>...</td>\n",
       "      <td>...</td>\n",
       "      <td>...</td>\n",
       "      <td>...</td>\n",
       "    </tr>\n",
       "    <tr>\n",
       "      <th>95</th>\n",
       "      <td>639892</td>\n",
       "      <td>Jose</td>\n",
       "      <td>22.82</td>\n",
       "      <td>89</td>\n",
       "      <td>1.05</td>\n",
       "      <td>129774</td>\n",
       "      <td>Biloxi</td>\n",
       "    </tr>\n",
       "    <tr>\n",
       "      <th>96</th>\n",
       "      <td>704709</td>\n",
       "      <td>Harold</td>\n",
       "      <td>32.61</td>\n",
       "      <td>77</td>\n",
       "      <td>5.93</td>\n",
       "      <td>156194</td>\n",
       "      <td>Carol Stream</td>\n",
       "    </tr>\n",
       "    <tr>\n",
       "      <th>97</th>\n",
       "      <td>461593</td>\n",
       "      <td>Nicole</td>\n",
       "      <td>52.66</td>\n",
       "      <td>60</td>\n",
       "      <td>28.53</td>\n",
       "      <td>95673</td>\n",
       "      <td>Detroit</td>\n",
       "    </tr>\n",
       "    <tr>\n",
       "      <th>98</th>\n",
       "      <td>392491</td>\n",
       "      <td>Theresa</td>\n",
       "      <td>29.60</td>\n",
       "      <td>57</td>\n",
       "      <td>6.99</td>\n",
       "      <td>51015</td>\n",
       "      <td>Mc Grath</td>\n",
       "    </tr>\n",
       "    <tr>\n",
       "      <th>99</th>\n",
       "      <td>495141</td>\n",
       "      <td>Tammy</td>\n",
       "      <td>38.38</td>\n",
       "      <td>55</td>\n",
       "      <td>2.26</td>\n",
       "      <td>93650</td>\n",
       "      <td>Alma</td>\n",
       "    </tr>\n",
       "  </tbody>\n",
       "</table>\n",
       "<p>100 rows × 7 columns</p>\n",
       "</div>"
      ],
      "text/plain": [
       "    Emp ID First Name  Age in Yrs  Weight in Kgs  Age in Company  Salary  \\\n",
       "0   677509       Lois       36.36             60           13.68  168251   \n",
       "1   940761     Brenda       47.02             60            9.01   51063   \n",
       "2   428945        Joe       54.15             68            0.98   50155   \n",
       "3   408351      Diane       39.67             51           18.30  180294   \n",
       "4   193819   Benjamin       40.31             58            4.01  117642   \n",
       "..     ...        ...         ...            ...             ...     ...   \n",
       "95  639892       Jose       22.82             89            1.05  129774   \n",
       "96  704709     Harold       32.61             77            5.93  156194   \n",
       "97  461593     Nicole       52.66             60           28.53   95673   \n",
       "98  392491    Theresa       29.60             57            6.99   51015   \n",
       "99  495141      Tammy       38.38             55            2.26   93650   \n",
       "\n",
       "            City  \n",
       "0         Denver  \n",
       "1      Stonewall  \n",
       "2   Michigantown  \n",
       "3       Hydetown  \n",
       "4        Fremont  \n",
       "..           ...  \n",
       "95        Biloxi  \n",
       "96  Carol Stream  \n",
       "97       Detroit  \n",
       "98      Mc Grath  \n",
       "99          Alma  \n",
       "\n",
       "[100 rows x 7 columns]"
      ]
     },
     "execution_count": 68,
     "metadata": {},
     "output_type": "execute_result"
    }
   ],
   "source": [
    "df1=pd.read_csv('Emp_Records_csv.csv')\n",
    "df1"
   ]
  },
  {
   "cell_type": "code",
   "execution_count": 73,
   "id": "0a406370",
   "metadata": {},
   "outputs": [
    {
     "data": {
      "text/html": [
       "<div>\n",
       "<style scoped>\n",
       "    .dataframe tbody tr th:only-of-type {\n",
       "        vertical-align: middle;\n",
       "    }\n",
       "\n",
       "    .dataframe tbody tr th {\n",
       "        vertical-align: top;\n",
       "    }\n",
       "\n",
       "    .dataframe thead th {\n",
       "        text-align: right;\n",
       "    }\n",
       "</style>\n",
       "<table border=\"1\" class=\"dataframe\">\n",
       "  <thead>\n",
       "    <tr style=\"text-align: right;\">\n",
       "      <th></th>\n",
       "      <th>PassengerId</th>\n",
       "      <th>Survived</th>\n",
       "      <th>Pclass</th>\n",
       "      <th>Name</th>\n",
       "      <th>Gender</th>\n",
       "      <th>Age</th>\n",
       "      <th>SibSp</th>\n",
       "      <th>Parch</th>\n",
       "      <th>Ticket</th>\n",
       "      <th>Fare</th>\n",
       "      <th>Cabin</th>\n",
       "      <th>Embarked</th>\n",
       "    </tr>\n",
       "  </thead>\n",
       "  <tbody>\n",
       "    <tr>\n",
       "      <th>0</th>\n",
       "      <td>1</td>\n",
       "      <td>0</td>\n",
       "      <td>3</td>\n",
       "      <td>Braund, Mr. Owen Harris</td>\n",
       "      <td>male</td>\n",
       "      <td>22.0</td>\n",
       "      <td>1</td>\n",
       "      <td>0</td>\n",
       "      <td>A/5 21171</td>\n",
       "      <td>7.2500</td>\n",
       "      <td>NaN</td>\n",
       "      <td>S</td>\n",
       "    </tr>\n",
       "    <tr>\n",
       "      <th>1</th>\n",
       "      <td>2</td>\n",
       "      <td>1</td>\n",
       "      <td>1</td>\n",
       "      <td>Cumings, Mrs. John Bradley (Florence Briggs Th...</td>\n",
       "      <td>female</td>\n",
       "      <td>38.0</td>\n",
       "      <td>1</td>\n",
       "      <td>0</td>\n",
       "      <td>PC 17599</td>\n",
       "      <td>71.2833</td>\n",
       "      <td>C85</td>\n",
       "      <td>C</td>\n",
       "    </tr>\n",
       "    <tr>\n",
       "      <th>2</th>\n",
       "      <td>3</td>\n",
       "      <td>1</td>\n",
       "      <td>3</td>\n",
       "      <td>Heikkinen, Miss. Laina</td>\n",
       "      <td>female</td>\n",
       "      <td>NaN</td>\n",
       "      <td>0</td>\n",
       "      <td>0</td>\n",
       "      <td>STON/O2. 3101282</td>\n",
       "      <td>7.9250</td>\n",
       "      <td>NaN</td>\n",
       "      <td>S</td>\n",
       "    </tr>\n",
       "    <tr>\n",
       "      <th>3</th>\n",
       "      <td>4</td>\n",
       "      <td>1</td>\n",
       "      <td>1</td>\n",
       "      <td>Futrelle, Mrs. Jacques Heath (Lily May Peel)</td>\n",
       "      <td>female</td>\n",
       "      <td>NaN</td>\n",
       "      <td>1</td>\n",
       "      <td>0</td>\n",
       "      <td>113803</td>\n",
       "      <td>53.1000</td>\n",
       "      <td>C123</td>\n",
       "      <td>S</td>\n",
       "    </tr>\n",
       "    <tr>\n",
       "      <th>4</th>\n",
       "      <td>5</td>\n",
       "      <td>0</td>\n",
       "      <td>3</td>\n",
       "      <td>Allen, Mr. William Henry</td>\n",
       "      <td>male</td>\n",
       "      <td>NaN</td>\n",
       "      <td>0</td>\n",
       "      <td>0</td>\n",
       "      <td>373450</td>\n",
       "      <td>8.0500</td>\n",
       "      <td>NaN</td>\n",
       "      <td>S</td>\n",
       "    </tr>\n",
       "    <tr>\n",
       "      <th>...</th>\n",
       "      <td>...</td>\n",
       "      <td>...</td>\n",
       "      <td>...</td>\n",
       "      <td>...</td>\n",
       "      <td>...</td>\n",
       "      <td>...</td>\n",
       "      <td>...</td>\n",
       "      <td>...</td>\n",
       "      <td>...</td>\n",
       "      <td>...</td>\n",
       "      <td>...</td>\n",
       "      <td>...</td>\n",
       "    </tr>\n",
       "    <tr>\n",
       "      <th>886</th>\n",
       "      <td>887</td>\n",
       "      <td>0</td>\n",
       "      <td>2</td>\n",
       "      <td>Montvila, Rev. Juozas</td>\n",
       "      <td>male</td>\n",
       "      <td>27.0</td>\n",
       "      <td>0</td>\n",
       "      <td>0</td>\n",
       "      <td>211536</td>\n",
       "      <td>13.0000</td>\n",
       "      <td>NaN</td>\n",
       "      <td>S</td>\n",
       "    </tr>\n",
       "    <tr>\n",
       "      <th>887</th>\n",
       "      <td>888</td>\n",
       "      <td>1</td>\n",
       "      <td>1</td>\n",
       "      <td>Graham, Miss. Margaret Edith</td>\n",
       "      <td>female</td>\n",
       "      <td>19.0</td>\n",
       "      <td>0</td>\n",
       "      <td>0</td>\n",
       "      <td>112053</td>\n",
       "      <td>30.0000</td>\n",
       "      <td>B42</td>\n",
       "      <td>S</td>\n",
       "    </tr>\n",
       "    <tr>\n",
       "      <th>888</th>\n",
       "      <td>889</td>\n",
       "      <td>0</td>\n",
       "      <td>3</td>\n",
       "      <td>Johnston, Miss. Catherine Helen \"Carrie\"</td>\n",
       "      <td>female</td>\n",
       "      <td>NaN</td>\n",
       "      <td>1</td>\n",
       "      <td>2</td>\n",
       "      <td>W./C. 6607</td>\n",
       "      <td>23.4500</td>\n",
       "      <td>NaN</td>\n",
       "      <td>S</td>\n",
       "    </tr>\n",
       "    <tr>\n",
       "      <th>889</th>\n",
       "      <td>890</td>\n",
       "      <td>1</td>\n",
       "      <td>1</td>\n",
       "      <td>Behr, Mr. Karl Howell</td>\n",
       "      <td>male</td>\n",
       "      <td>26.0</td>\n",
       "      <td>0</td>\n",
       "      <td>0</td>\n",
       "      <td>111369</td>\n",
       "      <td>30.0000</td>\n",
       "      <td>C148</td>\n",
       "      <td>C</td>\n",
       "    </tr>\n",
       "    <tr>\n",
       "      <th>890</th>\n",
       "      <td>891</td>\n",
       "      <td>0</td>\n",
       "      <td>3</td>\n",
       "      <td>Dooley, Mr. Patrick</td>\n",
       "      <td>male</td>\n",
       "      <td>32.0</td>\n",
       "      <td>0</td>\n",
       "      <td>0</td>\n",
       "      <td>370376</td>\n",
       "      <td>7.7500</td>\n",
       "      <td>NaN</td>\n",
       "      <td>Q</td>\n",
       "    </tr>\n",
       "  </tbody>\n",
       "</table>\n",
       "<p>891 rows × 12 columns</p>\n",
       "</div>"
      ],
      "text/plain": [
       "     PassengerId  Survived  Pclass  \\\n",
       "0              1         0       3   \n",
       "1              2         1       1   \n",
       "2              3         1       3   \n",
       "3              4         1       1   \n",
       "4              5         0       3   \n",
       "..           ...       ...     ...   \n",
       "886          887         0       2   \n",
       "887          888         1       1   \n",
       "888          889         0       3   \n",
       "889          890         1       1   \n",
       "890          891         0       3   \n",
       "\n",
       "                                                  Name  Gender   Age  SibSp  \\\n",
       "0                              Braund, Mr. Owen Harris    male  22.0      1   \n",
       "1    Cumings, Mrs. John Bradley (Florence Briggs Th...  female  38.0      1   \n",
       "2                               Heikkinen, Miss. Laina  female   NaN      0   \n",
       "3         Futrelle, Mrs. Jacques Heath (Lily May Peel)  female   NaN      1   \n",
       "4                             Allen, Mr. William Henry    male   NaN      0   \n",
       "..                                                 ...     ...   ...    ...   \n",
       "886                              Montvila, Rev. Juozas    male  27.0      0   \n",
       "887                       Graham, Miss. Margaret Edith  female  19.0      0   \n",
       "888           Johnston, Miss. Catherine Helen \"Carrie\"  female   NaN      1   \n",
       "889                              Behr, Mr. Karl Howell    male  26.0      0   \n",
       "890                                Dooley, Mr. Patrick    male  32.0      0   \n",
       "\n",
       "     Parch            Ticket     Fare Cabin Embarked  \n",
       "0        0         A/5 21171   7.2500   NaN        S  \n",
       "1        0          PC 17599  71.2833   C85        C  \n",
       "2        0  STON/O2. 3101282   7.9250   NaN        S  \n",
       "3        0            113803  53.1000  C123        S  \n",
       "4        0            373450   8.0500   NaN        S  \n",
       "..     ...               ...      ...   ...      ...  \n",
       "886      0            211536  13.0000   NaN        S  \n",
       "887      0            112053  30.0000   B42        S  \n",
       "888      2        W./C. 6607  23.4500   NaN        S  \n",
       "889      0            111369  30.0000  C148        C  \n",
       "890      0            370376   7.7500   NaN        Q  \n",
       "\n",
       "[891 rows x 12 columns]"
      ]
     },
     "execution_count": 73,
     "metadata": {},
     "output_type": "execute_result"
    }
   ],
   "source": [
    "df2=pd.read_csv('titanic.csv')\n",
    "df2"
   ]
  },
  {
   "cell_type": "code",
   "execution_count": null,
   "id": "3e01a1bc",
   "metadata": {},
   "outputs": [],
   "source": [
    "import matplotlib.pyplot as plt\n",
    "import seaborn as sns\n"
   ]
  },
  {
   "cell_type": "code",
   "execution_count": 88,
   "id": "a9e40e07",
   "metadata": {},
   "outputs": [
    {
     "data": {
      "text/html": [
       "<div>\n",
       "<style scoped>\n",
       "    .dataframe tbody tr th:only-of-type {\n",
       "        vertical-align: middle;\n",
       "    }\n",
       "\n",
       "    .dataframe tbody tr th {\n",
       "        vertical-align: top;\n",
       "    }\n",
       "\n",
       "    .dataframe thead th {\n",
       "        text-align: right;\n",
       "    }\n",
       "</style>\n",
       "<table border=\"1\" class=\"dataframe\">\n",
       "  <thead>\n",
       "    <tr style=\"text-align: right;\">\n",
       "      <th></th>\n",
       "      <th>PassengerId</th>\n",
       "      <th>Survived</th>\n",
       "      <th>Pclass</th>\n",
       "      <th>Name</th>\n",
       "      <th>Gender</th>\n",
       "      <th>Age</th>\n",
       "      <th>SibSp</th>\n",
       "      <th>Parch</th>\n",
       "      <th>Ticket</th>\n",
       "      <th>Fare</th>\n",
       "      <th>Cabin</th>\n",
       "      <th>Embarked</th>\n",
       "    </tr>\n",
       "  </thead>\n",
       "  <tbody>\n",
       "    <tr>\n",
       "      <th>0</th>\n",
       "      <td>1</td>\n",
       "      <td>0</td>\n",
       "      <td>3</td>\n",
       "      <td>Braund, Mr. Owen Harris</td>\n",
       "      <td>male</td>\n",
       "      <td>22.0</td>\n",
       "      <td>1</td>\n",
       "      <td>0</td>\n",
       "      <td>A/5 21171</td>\n",
       "      <td>7.2500</td>\n",
       "      <td>NaN</td>\n",
       "      <td>S</td>\n",
       "    </tr>\n",
       "    <tr>\n",
       "      <th>1</th>\n",
       "      <td>2</td>\n",
       "      <td>1</td>\n",
       "      <td>1</td>\n",
       "      <td>Cumings, Mrs. John Bradley (Florence Briggs Th...</td>\n",
       "      <td>female</td>\n",
       "      <td>38.0</td>\n",
       "      <td>1</td>\n",
       "      <td>0</td>\n",
       "      <td>PC 17599</td>\n",
       "      <td>71.2833</td>\n",
       "      <td>C85</td>\n",
       "      <td>C</td>\n",
       "    </tr>\n",
       "    <tr>\n",
       "      <th>2</th>\n",
       "      <td>3</td>\n",
       "      <td>1</td>\n",
       "      <td>3</td>\n",
       "      <td>Heikkinen, Miss. Laina</td>\n",
       "      <td>female</td>\n",
       "      <td>NaN</td>\n",
       "      <td>0</td>\n",
       "      <td>0</td>\n",
       "      <td>STON/O2. 3101282</td>\n",
       "      <td>7.9250</td>\n",
       "      <td>NaN</td>\n",
       "      <td>S</td>\n",
       "    </tr>\n",
       "    <tr>\n",
       "      <th>3</th>\n",
       "      <td>4</td>\n",
       "      <td>1</td>\n",
       "      <td>1</td>\n",
       "      <td>Futrelle, Mrs. Jacques Heath (Lily May Peel)</td>\n",
       "      <td>female</td>\n",
       "      <td>NaN</td>\n",
       "      <td>1</td>\n",
       "      <td>0</td>\n",
       "      <td>113803</td>\n",
       "      <td>53.1000</td>\n",
       "      <td>C123</td>\n",
       "      <td>S</td>\n",
       "    </tr>\n",
       "    <tr>\n",
       "      <th>4</th>\n",
       "      <td>5</td>\n",
       "      <td>0</td>\n",
       "      <td>3</td>\n",
       "      <td>Allen, Mr. William Henry</td>\n",
       "      <td>male</td>\n",
       "      <td>NaN</td>\n",
       "      <td>0</td>\n",
       "      <td>0</td>\n",
       "      <td>373450</td>\n",
       "      <td>8.0500</td>\n",
       "      <td>NaN</td>\n",
       "      <td>S</td>\n",
       "    </tr>\n",
       "    <tr>\n",
       "      <th>...</th>\n",
       "      <td>...</td>\n",
       "      <td>...</td>\n",
       "      <td>...</td>\n",
       "      <td>...</td>\n",
       "      <td>...</td>\n",
       "      <td>...</td>\n",
       "      <td>...</td>\n",
       "      <td>...</td>\n",
       "      <td>...</td>\n",
       "      <td>...</td>\n",
       "      <td>...</td>\n",
       "      <td>...</td>\n",
       "    </tr>\n",
       "    <tr>\n",
       "      <th>886</th>\n",
       "      <td>887</td>\n",
       "      <td>0</td>\n",
       "      <td>2</td>\n",
       "      <td>Montvila, Rev. Juozas</td>\n",
       "      <td>male</td>\n",
       "      <td>27.0</td>\n",
       "      <td>0</td>\n",
       "      <td>0</td>\n",
       "      <td>211536</td>\n",
       "      <td>13.0000</td>\n",
       "      <td>NaN</td>\n",
       "      <td>S</td>\n",
       "    </tr>\n",
       "    <tr>\n",
       "      <th>887</th>\n",
       "      <td>888</td>\n",
       "      <td>1</td>\n",
       "      <td>1</td>\n",
       "      <td>Graham, Miss. Margaret Edith</td>\n",
       "      <td>female</td>\n",
       "      <td>19.0</td>\n",
       "      <td>0</td>\n",
       "      <td>0</td>\n",
       "      <td>112053</td>\n",
       "      <td>30.0000</td>\n",
       "      <td>B42</td>\n",
       "      <td>S</td>\n",
       "    </tr>\n",
       "    <tr>\n",
       "      <th>888</th>\n",
       "      <td>889</td>\n",
       "      <td>0</td>\n",
       "      <td>3</td>\n",
       "      <td>Johnston, Miss. Catherine Helen \"Carrie\"</td>\n",
       "      <td>female</td>\n",
       "      <td>NaN</td>\n",
       "      <td>1</td>\n",
       "      <td>2</td>\n",
       "      <td>W./C. 6607</td>\n",
       "      <td>23.4500</td>\n",
       "      <td>NaN</td>\n",
       "      <td>S</td>\n",
       "    </tr>\n",
       "    <tr>\n",
       "      <th>889</th>\n",
       "      <td>890</td>\n",
       "      <td>1</td>\n",
       "      <td>1</td>\n",
       "      <td>Behr, Mr. Karl Howell</td>\n",
       "      <td>male</td>\n",
       "      <td>26.0</td>\n",
       "      <td>0</td>\n",
       "      <td>0</td>\n",
       "      <td>111369</td>\n",
       "      <td>30.0000</td>\n",
       "      <td>C148</td>\n",
       "      <td>C</td>\n",
       "    </tr>\n",
       "    <tr>\n",
       "      <th>890</th>\n",
       "      <td>891</td>\n",
       "      <td>0</td>\n",
       "      <td>3</td>\n",
       "      <td>Dooley, Mr. Patrick</td>\n",
       "      <td>male</td>\n",
       "      <td>32.0</td>\n",
       "      <td>0</td>\n",
       "      <td>0</td>\n",
       "      <td>370376</td>\n",
       "      <td>7.7500</td>\n",
       "      <td>NaN</td>\n",
       "      <td>Q</td>\n",
       "    </tr>\n",
       "  </tbody>\n",
       "</table>\n",
       "<p>891 rows × 12 columns</p>\n",
       "</div>"
      ],
      "text/plain": [
       "     PassengerId  Survived  Pclass  \\\n",
       "0              1         0       3   \n",
       "1              2         1       1   \n",
       "2              3         1       3   \n",
       "3              4         1       1   \n",
       "4              5         0       3   \n",
       "..           ...       ...     ...   \n",
       "886          887         0       2   \n",
       "887          888         1       1   \n",
       "888          889         0       3   \n",
       "889          890         1       1   \n",
       "890          891         0       3   \n",
       "\n",
       "                                                  Name  Gender   Age  SibSp  \\\n",
       "0                              Braund, Mr. Owen Harris    male  22.0      1   \n",
       "1    Cumings, Mrs. John Bradley (Florence Briggs Th...  female  38.0      1   \n",
       "2                               Heikkinen, Miss. Laina  female   NaN      0   \n",
       "3         Futrelle, Mrs. Jacques Heath (Lily May Peel)  female   NaN      1   \n",
       "4                             Allen, Mr. William Henry    male   NaN      0   \n",
       "..                                                 ...     ...   ...    ...   \n",
       "886                              Montvila, Rev. Juozas    male  27.0      0   \n",
       "887                       Graham, Miss. Margaret Edith  female  19.0      0   \n",
       "888           Johnston, Miss. Catherine Helen \"Carrie\"  female   NaN      1   \n",
       "889                              Behr, Mr. Karl Howell    male  26.0      0   \n",
       "890                                Dooley, Mr. Patrick    male  32.0      0   \n",
       "\n",
       "     Parch            Ticket     Fare Cabin Embarked  \n",
       "0        0         A/5 21171   7.2500   NaN        S  \n",
       "1        0          PC 17599  71.2833   C85        C  \n",
       "2        0  STON/O2. 3101282   7.9250   NaN        S  \n",
       "3        0            113803  53.1000  C123        S  \n",
       "4        0            373450   8.0500   NaN        S  \n",
       "..     ...               ...      ...   ...      ...  \n",
       "886      0            211536  13.0000   NaN        S  \n",
       "887      0            112053  30.0000   B42        S  \n",
       "888      2        W./C. 6607  23.4500   NaN        S  \n",
       "889      0            111369  30.0000  C148        C  \n",
       "890      0            370376   7.7500   NaN        Q  \n",
       "\n",
       "[891 rows x 12 columns]"
      ]
     },
     "execution_count": 88,
     "metadata": {},
     "output_type": "execute_result"
    }
   ],
   "source": [
    "df2"
   ]
  },
  {
   "cell_type": "code",
   "execution_count": 95,
   "id": "38d59368",
   "metadata": {},
   "outputs": [
    {
     "data": {
      "image/png": "[encoded data removed]",
      "text/plain": [
       "<Figure size 600x400 with 1 Axes>"
      ]
     },
     "metadata": {},
     "output_type": "display_data"
    }
   ],
   "source": [
    "plt.figure(figsize=(6, 4))\n",
    "sns.boxplot(y=df2['Age'])\n",
    "plt.title('Boxplot of Age')\n",
    "plt.show()\n"
   ]
  },
  {
   "cell_type": "code",
   "execution_count": 92,
   "id": "19825f55",
   "metadata": {},
   "outputs": [
    {
     "name": "stdout",
     "output_type": "stream",
     "text": [
      "['PassengerId', 'Survived', 'Pclass', 'Name', 'Gender', 'Age', 'SibSp', 'Parch', 'Ticket', 'Fare', 'Cabin', 'Embarked']\n"
     ]
    }
   ],
   "source": [
    "print(df2.columns.tolist())\n"
   ]
  },
  {
   "cell_type": "code",
   "execution_count": 96,
   "id": "da4eeea8",
   "metadata": {},
   "outputs": [
    {
     "data": {
      "image/png": "[encoded data removed]",
      "text/plain": [
       "<Figure size 640x480 with 1 Axes>"
      ]
     },
     "metadata": {},
     "output_type": "display_data"
    }
   ],
   "source": [
    "sns.countplot(x='Gender', data=df2)\n",
    "plt.title(\"Count of Each Gender\")\n",
    "plt.xlabel(\"Gender\")\n",
    "plt.ylabel(\"Count\")\n",
    "plt.show()"
   ]
  },
  {
   "cell_type": "code",
   "execution_count": null,
   "id": "42420a65",
   "metadata": {},
   "outputs": [],
   "source": []
  }
 ],
 "metadata": {
  "kernelspec": {
   "display_name": "venv",
   "language": "python",
   "name": "python3"
  },
  "language_info": {
   "codemirror_mode": {
    "name": "ipython",
    "version": 3
   },
   "file_extension": ".py",
   "mimetype": "text/x-python",
   "name": "python",
   "nbconvert_exporter": "python",
   "pygments_lexer": "ipython3",
   "version": "3.12.0"
  }
 },
 "nbformat": 4,
 "nbformat_minor": 5
}
